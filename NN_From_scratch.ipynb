{
 "cells": [
  {
   "cell_type": "markdown",
   "metadata": {
    "id": "IQwlunyE86kE"
   },
   "source": [
    "# 1. Практическое задание. Обучение полносвязной нейронной сети.\n",
    "\n",
    "**ФИО**: Коротаев Павел Дмитриевич\n",
    "\n",
    "**Дедлайн**: 09 октября 2020"
   ]
  },
  {
   "cell_type": "code",
   "execution_count": 3,
   "metadata": {
    "id": "UyCGfNgA86kF"
   },
   "outputs": [],
   "source": [
    "import numpy as np\n",
    "import torch\n",
    "import cv2\n",
    "\n",
    "from glob import glob\n",
    "from collections import OrderedDict\n",
    "from matplotlib import pyplot as plt\n",
    "\n",
    "from torch import nn\n",
    "from torch.autograd import Function\n",
    "from torch.autograd import gradcheck\n",
    "from torch.optim import Optimizer, Adam\n",
    "from torch.utils.data import Dataset, DataLoader\n",
    "from torchvision import datasets\n",
    "from torchvision import transforms"
   ]
  },
  {
   "cell_type": "markdown",
   "metadata": {
    "id": "uFaWrLT4GkfY"
   },
   "source": [
    "## 1. Загрузка данных"
   ]
  },
  {
   "cell_type": "markdown",
   "metadata": {
    "id": "R930jTYMG6nB"
   },
   "source": [
    "Если вам требуется работать с каким-нибубь набором данных (dataset), то прежде всего проверьте нет ли его среди встроенных наборов данных https://pytorch.org/vision/stable/datasets.html.\n",
    "\n",
    "В текущем домашнем задании мы будем работать с набором данных FashionMNIST. Он присутствует в списке встроенных наборов данных, однако мы воспользуемся реализацией только для удобного и быстрого способа скачать наборы данных. Ниже предлагается реализовать собственный класс для считывания, обработки и упаковки данных."
   ]
  },
  {
   "cell_type": "code",
   "execution_count": 2,
   "metadata": {
    "colab": {
     "base_uri": "https://localhost:8080/",
     "height": 417,
     "referenced_widgets": [
      "ac8f15ce0f974d31b5c3de2907c0b937",
      "6e469e997af74b2893cce66b46b2e323",
      "d35d53ff3729422faa55585d324babb0",
      "ba4b7af0487344168c80f820e75aca3c",
      "e5e4506d2c4643c5b7439aff3372852c",
      "a3b20dbd8134420da827d8e9b543af41",
      "131f9977ebe346eca7219ed8a61ab1df",
      "fc8f758e5a4a4b6b81cb924416e27099",
      "cf6e566da3bc44a18fd8a923c06794c6",
      "3d0f668a82b347a7b6b17872a430b92e",
      "0309ef5cb14c44c78167406f99407c0f",
      "457f2eac26db4969bc2899c55fd775ca",
      "93bb8b5453b44b81933905403ad82c00",
      "c7c9464ce3e24170acb6ca82d32566d8",
      "09e4a61c7fd64d26963d60c61e417d9e",
      "77a162fa3c79444681abce11aeb0181a",
      "50846d8d362c452b900920c68efa9e6d",
      "b099d2ae61b149bfbade44c13eefbf1d",
      "7541ec40e1b54c84986cc866dc56e16b",
      "5a82081abbcd47dcb20c5dd471b110d3",
      "abad64b40a3f4822aa81af944ef5af3f",
      "15348e47dc36479bad69f5e8fdf569c7",
      "73359e1e69324e8298c17bc77ae515fc",
      "8e2070b7579a4e3b998e797e5be6c011",
      "9c947500c3af4993904786261b5bf514",
      "78a39233e77249eb9d88cf4ad5c01e3c",
      "adc1c2ea69e549cfa0020d29c8109278",
      "c639b4917bde49739246fd00d5b0a3b3",
      "91f75032ca8b48738f4f0c65cd7c2118",
      "091f68e11c9a4ffc9c6e2da7d63300db",
      "70cc1fa9b57546ca801e3593ca9b4e72",
      "7237b64f69ea402da624a9318a46965c",
      "d8d802b9d5804be2ba4ee45b7753ccba",
      "9c1b84406a9a46069ca10a3e68e85a5d",
      "77b6131df0fd4e4d9fc1abc2ec874764",
      "ca8384ff34fc49f0994d093bcec7b2a1",
      "1c8c3432ba0f4e7685a958fc4c00e7c5",
      "3d31f3a312c843faabfabc4f2a941208",
      "2c1965c430024e9f8aa34f31fe0a7cb3",
      "ef22f0eba8fd4f439ed6fd5653eda3dc",
      "d88d3b9698a2496b813df4d9c2a14519",
      "25b6c1228559415f9bb8a58a57c234eb",
      "8a919be3c4d547ae9516ab7b6053c8ec",
      "89f3fe6e62fe415fb1d4b36611482875"
     ]
    },
    "id": "LauGpMvGF5qr",
    "outputId": "0cd05a52-d158-475a-f213-5e94b6a3d9fa"
   },
   "outputs": [
    {
     "name": "stdout",
     "output_type": "stream",
     "text": [
      "Downloading http://fashion-mnist.s3-website.eu-central-1.amazonaws.com/train-images-idx3-ubyte.gz\n",
      "Downloading http://fashion-mnist.s3-website.eu-central-1.amazonaws.com/train-images-idx3-ubyte.gz to data/FashionMNIST/raw/train-images-idx3-ubyte.gz\n"
     ]
    },
    {
     "data": {
      "application/vnd.jupyter.widget-view+json": {
       "model_id": "ac8f15ce0f974d31b5c3de2907c0b937",
       "version_major": 2,
       "version_minor": 0
      },
      "text/plain": [
       "  0%|          | 0/26421880 [00:00<?, ?it/s]"
      ]
     },
     "metadata": {},
     "output_type": "display_data"
    },
    {
     "name": "stdout",
     "output_type": "stream",
     "text": [
      "Extracting data/FashionMNIST/raw/train-images-idx3-ubyte.gz to data/FashionMNIST/raw\n",
      "\n",
      "Downloading http://fashion-mnist.s3-website.eu-central-1.amazonaws.com/train-labels-idx1-ubyte.gz\n",
      "Downloading http://fashion-mnist.s3-website.eu-central-1.amazonaws.com/train-labels-idx1-ubyte.gz to data/FashionMNIST/raw/train-labels-idx1-ubyte.gz\n"
     ]
    },
    {
     "data": {
      "application/vnd.jupyter.widget-view+json": {
       "model_id": "457f2eac26db4969bc2899c55fd775ca",
       "version_major": 2,
       "version_minor": 0
      },
      "text/plain": [
       "  0%|          | 0/29515 [00:00<?, ?it/s]"
      ]
     },
     "metadata": {},
     "output_type": "display_data"
    },
    {
     "name": "stdout",
     "output_type": "stream",
     "text": [
      "Extracting data/FashionMNIST/raw/train-labels-idx1-ubyte.gz to data/FashionMNIST/raw\n",
      "\n",
      "Downloading http://fashion-mnist.s3-website.eu-central-1.amazonaws.com/t10k-images-idx3-ubyte.gz\n",
      "Downloading http://fashion-mnist.s3-website.eu-central-1.amazonaws.com/t10k-images-idx3-ubyte.gz to data/FashionMNIST/raw/t10k-images-idx3-ubyte.gz\n"
     ]
    },
    {
     "data": {
      "application/vnd.jupyter.widget-view+json": {
       "model_id": "73359e1e69324e8298c17bc77ae515fc",
       "version_major": 2,
       "version_minor": 0
      },
      "text/plain": [
       "  0%|          | 0/4422102 [00:00<?, ?it/s]"
      ]
     },
     "metadata": {},
     "output_type": "display_data"
    },
    {
     "name": "stdout",
     "output_type": "stream",
     "text": [
      "Extracting data/FashionMNIST/raw/t10k-images-idx3-ubyte.gz to data/FashionMNIST/raw\n",
      "\n",
      "Downloading http://fashion-mnist.s3-website.eu-central-1.amazonaws.com/t10k-labels-idx1-ubyte.gz\n",
      "Downloading http://fashion-mnist.s3-website.eu-central-1.amazonaws.com/t10k-labels-idx1-ubyte.gz to data/FashionMNIST/raw/t10k-labels-idx1-ubyte.gz\n"
     ]
    },
    {
     "data": {
      "application/vnd.jupyter.widget-view+json": {
       "model_id": "9c1b84406a9a46069ca10a3e68e85a5d",
       "version_major": 2,
       "version_minor": 0
      },
      "text/plain": [
       "  0%|          | 0/5148 [00:00<?, ?it/s]"
      ]
     },
     "metadata": {},
     "output_type": "display_data"
    },
    {
     "name": "stdout",
     "output_type": "stream",
     "text": [
      "Extracting data/FashionMNIST/raw/t10k-labels-idx1-ubyte.gz to data/FashionMNIST/raw\n",
      "\n"
     ]
    }
   ],
   "source": [
    "training_data = datasets.FashionMNIST(\n",
    "    root=\"data\",\n",
    "    train=True,\n",
    "    download=True\n",
    ")\n",
    "\n",
    "test_data = datasets.FashionMNIST(\n",
    "    root=\"data\",\n",
    "    train=False,\n",
    "    download=True\n",
    ")"
   ]
  },
  {
   "cell_type": "markdown",
   "metadata": {
    "id": "RIT32OCMaLLP"
   },
   "source": [
    "Воспользуемся функцией загрузки данных из репозитория наборов данных."
   ]
  },
  {
   "cell_type": "code",
   "execution_count": 4,
   "metadata": {
    "colab": {
     "base_uri": "https://localhost:8080/"
    },
    "id": "Fm_cf_hEIapm",
    "outputId": "8e301685-d552-402c-8fe9-5a128c16dc20",
    "scrolled": true
   },
   "outputs": [
    {
     "name": "stdout",
     "output_type": "stream",
     "text": [
      "t10k-images-idx3-ubyte\t   train-images-idx3-ubyte\n",
      "t10k-images-idx3-ubyte.gz  train-images-idx3-ubyte.gz\n",
      "t10k-labels-idx1-ubyte\t   train-labels-idx1-ubyte\n",
      "t10k-labels-idx1-ubyte.gz  train-labels-idx1-ubyte.gz\n"
     ]
    }
   ],
   "source": [
    "! ls data/FashionMNIST/raw"
   ]
  },
  {
   "cell_type": "code",
   "execution_count": 5,
   "metadata": {
    "id": "-xnY5xk1KBg2"
   },
   "outputs": [],
   "source": [
    "#https://github.com/zalandoresearch/fashion-mnist/blob/master/utils/mnist_reader.py\n",
    "\n",
    "def load_mnist(path, kind='train'):\n",
    "    import os\n",
    "    import gzip\n",
    "    import numpy as np\n",
    "\n",
    "    \"\"\"Load MNIST data from `path`\"\"\"\n",
    "    labels_path = os.path.join(path,\n",
    "                               '%s-labels-idx1-ubyte.gz'\n",
    "                               % kind)\n",
    "    images_path = os.path.join(path,\n",
    "                               '%s-images-idx3-ubyte.gz'\n",
    "                               % kind)\n",
    "\n",
    "    with gzip.open(labels_path, 'rb') as lbpath:\n",
    "        labels = np.frombuffer(lbpath.read(), dtype=np.uint8,\n",
    "                               offset=8)\n",
    "\n",
    "    with gzip.open(images_path, 'rb') as imgpath:\n",
    "        images = np.frombuffer(imgpath.read(), dtype=np.uint8,\n",
    "                               offset=16).reshape(len(labels), 784)\n",
    "\n",
    "    return images, labels"
   ]
  },
  {
   "cell_type": "markdown",
   "metadata": {
    "id": "qHIlWRV0aZnA"
   },
   "source": [
    "Для удобства PyTorch предоставляет ряд базовых классов `Dataset, DataLoader`, от которых предлагается отнаследоваться при разработке пользовательских классов. Базовый класс `Dataset` используется для загрузки и обработки данных, класс `DataLoader` используется для управления процессом загрузки данных, позволяет в многопоточном режиме загружать данные и упаковывать их.\n",
    "Эти вспомогательные классы находятся в модуле `torch.utils.data`. \n",
    "\n",
    "При наследовании от класса `torch.utils.data.Dataset` требуется переопределить метод `__len__`, который возвращает количество примеров в наборе данных, а также метод `__getitem__`, который позволяет получить доступ к примеру из набора данных по индексу."
   ]
  },
  {
   "cell_type": "markdown",
   "metadata": {
    "id": "3jf2e5cPbJV2"
   },
   "source": [
    "Реализуем класс для FasionMnist.\n",
    "\n",
    "Элементами датасета должны являться пары '(np.array, int)', массив имеет размерность `(28, 28)`, тип элемента `np.float32`."
   ]
  },
  {
   "cell_type": "code",
   "execution_count": 6,
   "metadata": {
    "id": "snTBHRTQI1bc"
   },
   "outputs": [],
   "source": [
    "import os\n",
    "\n",
    "class FashionMnist(Dataset):\n",
    "    def __init__(self, path, train=True, image_transform=None, \n",
    "                 label_transform=None):\n",
    "        if train:\n",
    "            images, labels = load_mnist(os.path.join(path,\"raw\"))\n",
    "        else:\n",
    "            images, labels = load_mnist(os.path.join(path,\"raw\"), kind=\"t10k\")\n",
    "        \n",
    "#         plt.imshow(images)\n",
    "        self.images = images\n",
    "        self.labels = labels\n",
    "        self.image_transform = image_transform\n",
    "\n",
    "    def __len__(self,):\n",
    "        return len(self.labels)\n",
    "\n",
    "    def __getitem__(self, idx):\n",
    "        \n",
    "        img = self.images[idx].reshape(28,-1).copy()\n",
    "        label = self.labels[idx]\n",
    "        \n",
    "        if self.image_transform is not None:\n",
    "            img = self.image_transform(img)\n",
    "            \n",
    "        return img, label\n"
   ]
  },
  {
   "cell_type": "code",
   "execution_count": 7,
   "metadata": {
    "id": "XVGv_2zBNfpz"
   },
   "outputs": [],
   "source": [
    "test_dataset = FashionMnist(\"data/FashionMNIST\", train=False)\n",
    "train_dataset = FashionMnist(\"data/FashionMNIST\")"
   ]
  },
  {
   "cell_type": "markdown",
   "metadata": {
    "id": "JciETIfndiGR"
   },
   "source": [
    "Визуализируйте случайные элементы набора данных."
   ]
  },
  {
   "cell_type": "code",
   "execution_count": 8,
   "metadata": {
    "colab": {
     "base_uri": "https://localhost:8080/",
     "height": 879
    },
    "id": "wBky4UtmOS71",
    "outputId": "43f19f0c-7bf8-40a4-b71f-4232e8f56eda"
   },
   "outputs": [
    {
     "data": {
      "image/png": "[encoded data removed]",
      "text/plain": [
       "<Figure size 1080x1080 with 16 Axes>"
      ]
     },
     "metadata": {
      "needs_background": "light"
     },
     "output_type": "display_data"
    }
   ],
   "source": [
    "fig, axs = plt.subplots(4, 4)\n",
    "fig.set_figheight(15)\n",
    "fig.set_figwidth(15)\n",
    "\n",
    "row = -1\n",
    "for idx, data in enumerate(train_dataset):\n",
    "    img, label = data\n",
    "    if idx == 16:\n",
    "        break\n",
    "    col = idx % 4\n",
    "    if col == 0:\n",
    "        row+=1\n",
    "    axs[row][col].imshow(img)\n",
    "    axs[row][col].title.set_text(str(label))\n"
   ]
  },
  {
   "cell_type": "markdown",
   "metadata": {
    "id": "320RvzL7PZrI"
   },
   "source": [
    "В конструктор `Dataset` можно передать объект `torchvision.transforms`, который позволяет преобразовать исходные данные. Преобразование `torchvision.transforms.ToTensor` позволяет преобразоать данные из типа `PIL Image` и `numpy.float32` в тип `torch.float32`\n",
    "\n",
    "Реализуйте собственную поддержку преобразований в `FashionMnist`. Проверьте, что приведение типов работает корректно. "
   ]
  },
  {
   "cell_type": "code",
   "execution_count": 9,
   "metadata": {
    "id": "pQsGbfXUTxcx"
   },
   "outputs": [],
   "source": [
    "class ToTensor:\n",
    "    \"\"\"Convert ndarrays in sample to Tensors.\"\"\"\n",
    "\n",
    "    def __call__(self, sample):\n",
    "        return torch.from_numpy(sample)"
   ]
  },
  {
   "cell_type": "code",
   "execution_count": 10,
   "metadata": {
    "id": "7BpFQ_Y2PoeI"
   },
   "outputs": [],
   "source": [
    "transform = ToTensor()\n",
    "\n",
    "test_dataset = FashionMnist(\"data/FashionMNIST\", \n",
    "                            train=False, \n",
    "                            image_transform=transform, \n",
    "                            label_transform=transform\n",
    "                            )\n",
    "train_dataset = FashionMnist(\"data/FashionMNIST\",\n",
    "                             image_transform=transform, \n",
    "                             label_transform=transform\n",
    "                             )"
   ]
  },
  {
   "cell_type": "code",
   "execution_count": 11,
   "metadata": {
    "colab": {
     "base_uri": "https://localhost:8080/"
    },
    "id": "ukLn9rY7SCsS",
    "outputId": "9933880c-3887-4671-ac3f-aeed05926032"
   },
   "outputs": [
    {
     "name": "stdout",
     "output_type": "stream",
     "text": [
      "The type of the data is <class 'torch.Tensor'>\n"
     ]
    }
   ],
   "source": [
    "print(f\"The type of the data is {type(test_dataset[0][0])}\")"
   ]
  },
  {
   "cell_type": "markdown",
   "metadata": {
    "id": "5Ltavx0QUMnm"
   },
   "source": [
    "Элементы набора данных могут быть объединены в пакеты (batch) явно и неявно. Если данные могут быть сконкатенированы или обЪединены каким-нибудь тривиальным способом, то можно не передавать никаких дополнительных парамертов в `torch.utils.data.Dataloader`."
   ]
  },
  {
   "cell_type": "code",
   "execution_count": 12,
   "metadata": {
    "id": "Cizxx6m0VAI7"
   },
   "outputs": [],
   "source": [
    "test_dataloader = DataLoader(test_dataset, batch_size=15, num_workers=2, shuffle=True)\n",
    "batch = next(iter(test_dataloader))"
   ]
  },
  {
   "cell_type": "code",
   "execution_count": 13,
   "metadata": {
    "colab": {
     "base_uri": "https://localhost:8080/"
    },
    "id": "SIZiPrBgVwGA",
    "outputId": "55714686-5640-4f1f-c171-f957399103cf"
   },
   "outputs": [
    {
     "name": "stdout",
     "output_type": "stream",
     "text": [
      "The length of the batch is 2\n",
      "The shape of the batch[0] is torch.Size([15, 28, 28])\n"
     ]
    }
   ],
   "source": [
    "print(f\"The length of the batch is {len(batch)}\")\n",
    "print(f\"The shape of the batch[0] is {batch[0].shape}\")"
   ]
  },
  {
   "cell_type": "markdown",
   "metadata": {
    "id": "BCggRyOQWVIx"
   },
   "source": [
    "Однако, если наша структура данных не позволяет нам использовать объединение по умолчанию, то можно написать собственную функцию, которая будет пакетировать данные. \n",
    "\n",
    "Реализуйте функцию, преобразующую последовательность элементов массива в пакет (batch)."
   ]
  },
  {
   "cell_type": "code",
   "execution_count": 14,
   "metadata": {
    "id": "nQVh93fmWSjA"
   },
   "outputs": [],
   "source": [
    "def collate(batch):\n",
    "\n",
    "    imgs = []\n",
    "    labels = []\n",
    "    for i in range(len(batch)):\n",
    "        imgs.append(batch[i][0].view(28*28))\n",
    "        labels.append(int(batch[i][1]))\n",
    " \n",
    "    imgs = torch.stack(imgs)\n",
    "    imgs = imgs.to(torch.float64)\n",
    "    labels = torch.tensor(labels)  \n",
    "    return imgs, labels"
   ]
  },
  {
   "cell_type": "markdown",
   "metadata": {
    "id": "Wij6F-vpe7KS"
   },
   "source": [
    "Убедитесть, что все работает корректно. "
   ]
  },
  {
   "cell_type": "code",
   "execution_count": 15,
   "metadata": {
    "id": "4dDtlvlCXNbW"
   },
   "outputs": [],
   "source": [
    "test_dataloader = DataLoader(test_dataset, batch_size=15, num_workers=2, \n",
    "                             shuffle=True, collate_fn=collate)\n",
    "train_dataloader = DataLoader(train_dataset, batch_size=15, num_workers=2,\n",
    "                              shuffle=True, collate_fn=collate)\n",
    "batch = next(iter(test_dataloader))"
   ]
  },
  {
   "cell_type": "code",
   "execution_count": 16,
   "metadata": {
    "colab": {
     "base_uri": "https://localhost:8080/"
    },
    "id": "PFN00IyZXYaF",
    "outputId": "ceba4934-2f59-4fcd-c264-b2af82279a81",
    "scrolled": true
   },
   "outputs": [
    {
     "name": "stdout",
     "output_type": "stream",
     "text": [
      "The length of the batch is 2\n",
      "The shape of the batch[0] is torch.Size([15, 784])\n",
      "tensor([[0., 0., 0.,  ..., 0., 0., 0.],\n",
      "        [0., 0., 0.,  ..., 0., 0., 0.],\n",
      "        [0., 0., 0.,  ..., 0., 0., 0.],\n",
      "        ...,\n",
      "        [0., 0., 0.,  ..., 0., 0., 0.],\n",
      "        [0., 0., 0.,  ..., 0., 0., 0.],\n",
      "        [0., 0., 0.,  ..., 0., 0., 0.]], dtype=torch.float64)\n"
     ]
    }
   ],
   "source": [
    "print(f\"The length of the batch is {len(batch)}\")\n",
    "print(f\"The shape of the batch[0] is {batch[0].shape}\")\n",
    "print(batch[0])"
   ]
  },
  {
   "cell_type": "markdown",
   "metadata": {
    "id": "VHcumwuF86kL"
   },
   "source": [
    "## 2. Реализация модулей нейронной сети (15 баллов)\n",
    "\n",
    "В этом разделе мы полностью реализуем модули для полносвязанной сети. \n",
    "\n",
    "Для начала нам понадобится реализовать прямой и обратный проход через слои. \n",
    "\n",
    "Наши слои будут соответствовать следующему интерфейсу (на примере \"тождественного\" слоя):"
   ]
  },
  {
   "cell_type": "markdown",
   "metadata": {
    "id": "zzhCW5HcfmKd"
   },
   "source": [
    "Сначала, мы реализуем функцию и её градиент. "
   ]
  },
  {
   "cell_type": "code",
   "execution_count": 17,
   "metadata": {
    "id": "rcqeFXxsFGQO"
   },
   "outputs": [],
   "source": [
    "class IdentityFunction(Function):\n",
    "    \"\"\"\n",
    "    We can implement our own custom autograd Functions by subclassing\n",
    "    torch.autograd.Function and implementing the forward and backward passes\n",
    "    which operate on Tensors.\n",
    "    \"\"\"\n",
    "    @staticmethod\n",
    "    def forward(ctx, input):\n",
    "        \"\"\"\n",
    "        In the forward pass we receive a Tensor containing the input and return\n",
    "        a Tensor containing the output. ctx is a context object that can be used\n",
    "        to stash information for backward computation. You can cache arbitrary\n",
    "        objects for use in the backward pass using the ctx.save_for_backward method.\n",
    "        \"\"\"\n",
    "        return input\n",
    "\n",
    "    @staticmethod\n",
    "    def backward(ctx, grad_output):\n",
    "        \"\"\"\n",
    "        In the backward pass we receive a Tensor containing the gradient of the loss\n",
    "        with respect to the output, and we need to compute the gradient of the loss\n",
    "        with respect to the input.\n",
    "        \"\"\"\n",
    "        return grad_output"
   ]
  },
  {
   "cell_type": "markdown",
   "metadata": {
    "id": "jc6Rtczffxv4"
   },
   "source": [
    "Разработанную функцию обернем классом `IdentityLayer`, все слои в `PyTorch` должны быть наследниками базового класса `nn.Module()`\n"
   ]
  },
  {
   "cell_type": "code",
   "execution_count": 18,
   "metadata": {
    "id": "SiqeRVcM86kM"
   },
   "outputs": [],
   "source": [
    "class IdentityLayer(nn.Module):\n",
    "    def __init__(self):\n",
    "        # An identity layer does nothing\n",
    "        super().__init__()\n",
    "        self.identity = IdentityFunction.apply\n",
    "    \n",
    "    def forward(self, inp):\n",
    "        # An identity layer just returns whatever it gets as input.\n",
    "        return self.identity(inp)"
   ]
  },
  {
   "cell_type": "markdown",
   "metadata": {
    "id": "N4IoM_pX86kQ"
   },
   "source": [
    "\n",
    "### 2.1 Функция активации ReLU\n",
    "Для начала реализуем функцию активации, слой нелинейности `ReLU(x) = max(x, 0)`. Параметров у слоя нет. Метод `forward` должен вернуть результат поэлементного применения `ReLU` к входному массиву, метод `backward` - градиент функции потерь по входу слоя. В нуле будем считать производную равной 0. Обратите внимание, что при обратном проходе могут понадобиться величины, посчитанные во время прямого прохода, поэтому их стоит сохранить в `ctx`."
   ]
  },
  {
   "cell_type": "code",
   "execution_count": 19,
   "metadata": {
    "id": "U9qrJ47xY6H0"
   },
   "outputs": [],
   "source": [
    "class ReLUFunction(Function):\n",
    "    @staticmethod\n",
    "    def forward(ctx, input):\n",
    "        x = torch.clone(input)\n",
    "        x[x < 0] = 0\n",
    "        ctx.save_for_backward(x)\n",
    "        return x\n",
    "\n",
    "    @staticmethod\n",
    "    def backward(ctx, grad_output):\n",
    "        after_relu = torch.clone(ctx.saved_tensors[0])\n",
    "        after_relu[after_relu>0]=1\n",
    "        return after_relu * grad_output"
   ]
  },
  {
   "cell_type": "code",
   "execution_count": 20,
   "metadata": {
    "id": "y09ZVCsT86kT"
   },
   "outputs": [],
   "source": [
    "class ReLU(nn.Module):\n",
    "    def __init__(self):\n",
    "        super().__init__()\n",
    "        self.relu = ReLUFunction.apply\n",
    "\n",
    "    def forward(self, input):\n",
    "        return self.relu(input)"
   ]
  },
  {
   "cell_type": "markdown",
   "metadata": {
    "id": "2RwKEUp_V3-L"
   },
   "source": [
    "Не забываем после реализации функции проверить градиент, испльзуя функцию `gradcheck`."
   ]
  },
  {
   "cell_type": "code",
   "execution_count": 21,
   "metadata": {
    "id": "K0RnDQZCXXZn"
   },
   "outputs": [],
   "source": [
    "x = torch.tensor([[1,2,3],\n",
    "                 [-1,2, 1]],dtype=torch.double,requires_grad=True)\n",
    "relu = ReLU()\n",
    "assert gradcheck(relu, x)"
   ]
  },
  {
   "cell_type": "code",
   "execution_count": 22,
   "metadata": {
    "id": "vUmbmR4iXurd"
   },
   "outputs": [],
   "source": [
    "torch_relu = nn.ReLU()\n",
    "our_relu = ReLU()\n",
    "x = torch.randn(20,20,dtype=torch.double,requires_grad=True)\n",
    "\n",
    "assert torch.norm(torch_relu(x.float()) - our_relu(x)) < 1e-5"
   ]
  },
  {
   "cell_type": "markdown",
   "metadata": {
    "id": "ojTR4GFd86kY"
   },
   "source": [
    "### 2.2 Линейный слой (linear, fully-connected)\n",
    "Далее реализуем полносвязный слой без нелинейности. У слоя два набора параметра: матрица весов (weights) и вектор смещения (bias)."
   ]
  },
  {
   "cell_type": "code",
   "execution_count": 23,
   "metadata": {
    "id": "NBlEdXT6DzWd"
   },
   "outputs": [],
   "source": [
    "from torch.nn.parameter import Parameter"
   ]
  },
  {
   "cell_type": "code",
   "execution_count": 24,
   "metadata": {
    "id": "fBl34oykbcBf"
   },
   "outputs": [],
   "source": [
    "class LinearFunction(Function): #1\n",
    "    @staticmethod\n",
    "    def forward(ctx, inp, weight, bias):\n",
    "        ctx.save_for_backward(inp, weight, bias)\n",
    "        output = torch.mm(inp, weight.t()) + bias\n",
    "        return output\n",
    "    @staticmethod\n",
    "    def backward(ctx, grad_output):\n",
    "        inp, weight, bias = ctx.saved_tensors\n",
    "        grad_weigth = torch.mm(inp.t(), grad_output).t()\n",
    "        grad_input = torch.mm(grad_output, weight)\n",
    "        grad_bias = torch.sum(grad_output,0)\n",
    "        return grad_input, grad_weigth, grad_bias\n",
    "\n",
    "\n",
    "class Linear(nn.Module):\n",
    "    def __init__(self, input_units, output_units):\n",
    "        super().__init__()\n",
    "        self.weight = Parameter(torch.normal(0, 1, size=(output_units, input_units), dtype=torch.float64, \n",
    "                                   requires_grad=True))\n",
    "        self.bias = Parameter(torch.squeeze(torch.ones((1, output_units), dtype=torch.float64, \n",
    "                                 requires_grad=True)))\n",
    "        \n",
    "        \n",
    "    def forward(self, inp):\n",
    "        self.linear = LinearFunction.apply(inp, self.weight, self.bias)\n",
    "        return self.linear"
   ]
  },
  {
   "cell_type": "markdown",
   "metadata": {
    "id": "gToXI43WYMDv"
   },
   "source": [
    "Проверим градиент, а также сравним с работой нашего модуля с имплементированным в `PyTorch`. "
   ]
  },
  {
   "cell_type": "markdown",
   "metadata": {
    "id": "et7mKX5xZfMI"
   },
   "source": [
    "Проверка градиента:"
   ]
  },
  {
   "cell_type": "code",
   "execution_count": 25,
   "metadata": {
    "id": "PxLVozqLZb_H"
   },
   "outputs": [],
   "source": [
    "x = torch.randn(128, 20, dtype=torch.double,requires_grad=True)\n",
    "linear = Linear(20,30)\n",
    "\n",
    "assert gradcheck(linear, x)"
   ]
  },
  {
   "cell_type": "markdown",
   "metadata": {
    "id": "pW8ppOciZndN"
   },
   "source": [
    "Сравнение с `PyTorch`. "
   ]
  },
  {
   "cell_type": "code",
   "execution_count": 26,
   "metadata": {
    "id": "IIR9svs7Zmq0"
   },
   "outputs": [],
   "source": [
    "weight = torch.normal(0, 1, size=(16, 8), dtype=torch.double)\n",
    "bias = torch.ones((1, 16), dtype=torch.double)\n",
    "torch_linear = nn.Linear(8,16)\n",
    "our_linear = Linear(8,16)\n",
    "state_dict = OrderedDict([(\"weight\", weight), (\"bias\", torch.squeeze(bias))])\n",
    "# state_dict2 = OrderedDict([(\"weight\", weight.t()), (\"bias\", torch.squeeze(bias))])\n",
    "\n",
    "torch_linear.load_state_dict(state_dict)\n",
    "our_linear.load_state_dict(state_dict)\n",
    "\n",
    "x = torch.rand((4,8),dtype=torch.double,requires_grad=True)\n",
    "\n",
    "assert torch.norm(torch_linear(x.float()) - our_linear(x)) < 1e-5"
   ]
  },
  {
   "cell_type": "markdown",
   "metadata": {
    "id": "0dyhDg0D86kt"
   },
   "source": [
    "### 2.3 LogSoftmax (Log + Softmax)"
   ]
  },
  {
   "cell_type": "markdown",
   "metadata": {
    "id": "ArL0HLGH86ku"
   },
   "source": [
    "Для решения задачи многоклассовой классификации обычно используют `softmax` в качестве нелинейности на последнем слое, чтобы получить \"оценку\" вероятности классов для каждого объекта:$$\\hat y = softmax(x)  = \\bigl \\{\\frac {exp(x_i)}{\\sum_j exp(x_j)} \\bigr \\}_{i=1}^K, \\quad K - \\text{число классов}$$В этом случае удобно оптимизировать логарифм правдоподобия:$$L(y, \\hat y) = -\\sum_{i=1}^K y_i \\log \\hat y_i \\rightarrow \\min,$$где $y_i=1$, если объект принадлежит $i$-му классу, и 0 иначе. Записанная в таком виде, эта функция потерь совпадает с выражением для кросс-энтропии. Очевидно, что ее также можно переписать через индексацию, если через $y_i$ обозначить класс данного объекта:$$L(y, \\hat y) = - \\log \\hat y_{y_i} \\rightarrow \\min$$В таком виде ее удобно реализовывать.\n",
    "\n",
    "Реализуйте слой `LogSoftmax` (без параметров). Метод `forward` должен вычислять логарифм от `softmax`, а метод `backward` - пропускать градиенты. В общем случае в промежуточных вычислениях `backward` получится трехмерный тензор, однако для нашей конкретной функции потерь все вычисления можно реализовать в матричном виде. Поэтому мы будем предполагать, что аргумент `grad_output` - это матрица, у которой в каждой строке только одно ненулевое значение (не обязательно единица).\n",
    "\n",
    "Комментарий: разобраться `Log-Sum-Exp trick`"
   ]
  },
  {
   "cell_type": "code",
   "execution_count": 27,
   "metadata": {
    "id": "xSV3XD0N86ky"
   },
   "outputs": [],
   "source": [
    "class LogSoftmaxFunction(Function):\n",
    "    @staticmethod\n",
    "    def forward(ctx, inp):\n",
    "        vals, _ = torch.max(inp,1)\n",
    "        vals = torch.unsqueeze(vals,0).t()\n",
    "        inp = inp - vals \n",
    "        num = inp.exp()\n",
    "        denum = inp.exp().sum(-1, keepdims=True)\n",
    "        to_return = inp - torch.log(denum)\n",
    "        to_return2 =  num/denum\n",
    "        ctx.save_for_backward(to_return2)\n",
    "        return to_return\n",
    "    \n",
    "    @staticmethod        \n",
    "    def backward(ctx, grad_output):\n",
    "        soft_y = ctx.saved_tensors[0]\n",
    "        sum_grad = torch.sum(grad_output, 1)\n",
    "        sum_grad = sum_grad.view(soft_y.shape[0], 1)\n",
    "        return grad_output - sum_grad*soft_y\n",
    "\n",
    "\n",
    "class LogSoftmax(nn.Module):\n",
    "    def __init__(self):\n",
    "        super().__init__()\n",
    "        self.softmax = LogSoftmaxFunction.apply\n",
    "\n",
    "    def forward(self, input):\n",
    "        return self.softmax(input)"
   ]
  },
  {
   "cell_type": "markdown",
   "metadata": {
    "id": "Ke4G67cddjVA"
   },
   "source": [
    "Проверка градиентов."
   ]
  },
  {
   "cell_type": "code",
   "execution_count": 28,
   "metadata": {
    "id": "cfgkVgGbrQEv"
   },
   "outputs": [],
   "source": [
    "x = torch.tensor([[1,2, 3, 4],\n",
    "                  [5,3,2,1]],dtype=torch.double,requires_grad=True)\n",
    "x = torch.tensor([[1,2, 3, 4]],dtype=torch.double,requires_grad=True)\n",
    "lsf = LogSoftmax()\n",
    "assert gradcheck(lsf, x)"
   ]
  },
  {
   "cell_type": "code",
   "execution_count": 29,
   "metadata": {
    "colab": {
     "base_uri": "https://localhost:8080/"
    },
    "id": "4z3CnoqoDzWh",
    "outputId": "bcd8bcf2-755e-4513-fc25-203af8493f4b"
   },
   "outputs": [
    {
     "name": "stdout",
     "output_type": "stream",
     "text": [
      "tensor([[-3.4402e+00, -2.4402e+00, -1.4402e+00, -4.4019e-01],\n",
      "        [-1.2000e+01, -1.1000e+01, -1.4625e-04, -9.0001e+00],\n",
      "        [-4.4197e+00, -2.4197e+00, -1.4197e+00, -4.1972e-01]],\n",
      "       dtype=torch.float64, grad_fn=<LogSoftmaxBackward0>)\n",
      "tensor([[-3.4402e+00, -2.4402e+00, -1.4402e+00, -4.4019e-01],\n",
      "        [-1.2000e+01, -1.1000e+01, -1.4625e-04, -9.0001e+00],\n",
      "        [-4.4197e+00, -2.4197e+00, -1.4197e+00, -4.1972e-01]],\n",
      "       dtype=torch.float64, grad_fn=<LogSoftmaxFunctionBackward>)\n"
     ]
    },
    {
     "name": "stderr",
     "output_type": "stream",
     "text": [
      "/usr/local/lib/python3.7/dist-packages/ipykernel_launcher.py:6: UserWarning: Implicit dimension choice for log_softmax has been deprecated. Change the call to include dim=X as an argument.\n",
      "  \n"
     ]
    }
   ],
   "source": [
    "torch_LogSoftmax = nn.LogSoftmax()\n",
    "our_LogSoftmax = LogSoftmax()\n",
    "x = torch.tensor([[1,2, 3, 4],\n",
    "                  [5,6,17,8],\n",
    "                 [10, 12, 13, 14]],dtype=torch.double,requires_grad=True)\n",
    "print(torch_LogSoftmax(x))\n",
    "print(our_LogSoftmax(x))\n",
    "# assert torch.norm(torch_LogSoftmax(x) - our_LogSoftmax(x)) < 1e-5\n"
   ]
  },
  {
   "cell_type": "markdown",
   "metadata": {
    "id": "3Sn2M_Q086k2"
   },
   "source": [
    "### 2.4 Dropout\n",
    "Реализуйте слой Dropout."
   ]
  },
  {
   "cell_type": "code",
   "execution_count": 30,
   "metadata": {
    "id": "qCLECy1y86k3"
   },
   "outputs": [],
   "source": [
    "class dropout(Function):\n",
    "    @staticmethod\n",
    "    def forward(ctx, inp, p):\n",
    "        probs = torch.full((1,inp.shape[-1]), p)\n",
    "        mask = torch.bernoulli(probs)/(1-p)\n",
    "        mask = mask.cuda()\n",
    "        ctx.save_for_backward(mask)\n",
    "        return inp * mask\n",
    "        \n",
    "        \n",
    "    @staticmethod\n",
    "    def backward(ctx, grad_output):\n",
    "        mask = torch.clone(ctx.saved_tensors[0])\n",
    "        return torch.squeeze(grad_output * mask), None"
   ]
  },
  {
   "cell_type": "code",
   "execution_count": 31,
   "metadata": {
    "id": "pS5z_mth1ZAZ"
   },
   "outputs": [],
   "source": [
    "class Dropout(nn.Module):\n",
    "    def __init__(self, p):\n",
    "        super().__init__()\n",
    "        self.p = p\n",
    "    def forward(self, input):\n",
    "        self.d = dropout.apply(input, self.p)\n",
    "        return self.d"
   ]
  },
  {
   "cell_type": "markdown",
   "metadata": {
    "id": "hyPPzkCI86k7"
   },
   "source": [
    "### 2.5 CrossEntropy\n",
    "\n",
    "При решении задачи многоклассовой классификации мы будет использовать в качестве функции потерь кроссэнтропию. Реализуйте функцию потерь. В разделе 2.3 приведены полезные формулы."
   ]
  },
  {
   "cell_type": "code",
   "execution_count": 32,
   "metadata": {
    "id": "KotXWXnT3-j5"
   },
   "outputs": [],
   "source": [
    "import torch.nn.functional as F\n",
    "class CrossEntropyFunction(Function):\n",
    "    @staticmethod\n",
    "    def forward(ctx, activations, target):\n",
    "        mask = F.one_hot(target, activations.shape[1])\n",
    "        ctx.save_for_backward(-activations*mask, -mask) \n",
    "        return torch.sum(-activations.gather(1, target.unsqueeze(1)))\n",
    "\n",
    "    @staticmethod\n",
    "    def backward(ctx, grad_output):\n",
    "        grad_target, grad_act = ctx.saved_tensors\n",
    "        \n",
    "        return grad_output*grad_act, grad_output*grad_target\n",
    "        \n",
    "\n",
    "class CrossEntropy(nn.Module):\n",
    "    def __init__(self, ):\n",
    "        super().__init__()\n",
    "        self\n",
    "\n",
    "    def forward(self, activations, target):\n",
    "        self.CELoss = CrossEntropyFunction.apply(activations, target)\n",
    "        return self.CELoss\n"
   ]
  },
  {
   "cell_type": "markdown",
   "metadata": {
    "id": "vFNcOfVNesCC"
   },
   "source": [
    "Проверка градиентов."
   ]
  },
  {
   "cell_type": "code",
   "execution_count": 33,
   "metadata": {
    "id": "lXQr7sllKi8k"
   },
   "outputs": [],
   "source": [
    "x = torch.tensor([[1,2, 3, 4],\n",
    "                  [4,3,2,1]],dtype=torch.double,requires_grad=True)\n",
    "our_LogSoftmax = LogSoftmax()\n",
    "act = our_LogSoftmax(x)\n",
    "target = torch.tensor([3, 0])\n",
    "loss = CrossEntropy()\n",
    "assert gradcheck(loss, (act, target))"
   ]
  },
  {
   "cell_type": "markdown",
   "metadata": {
    "id": "kmzKDpyE86lg"
   },
   "source": [
    "## 3. Сборка и обучение нейронной сети (5 балла)"
   ]
  },
  {
   "cell_type": "markdown",
   "metadata": {
    "id": "mPqlZfj_86lg"
   },
   "source": [
    "Реализуйте произвольную нейросеть, состоящую из ваших блоков. Она должна состоять из нескольких полносвязанных слоев."
   ]
  },
  {
   "cell_type": "code",
   "execution_count": 34,
   "metadata": {
    "id": "tkESXVD87sM8"
   },
   "outputs": [],
   "source": [
    "class Network(nn.Module):\n",
    "    def __init__(self, input_size=28*28, hidden_layers_size=32, num_layers=5,\n",
    "                 num_classes=10):\n",
    "        super().__init__()\n",
    "        self.hid_block = []\n",
    "        self.fc1 = Linear(28*28, 1024)\n",
    "        self.relu = ReLU()\n",
    "        for i in range(num_layers):\n",
    "            self.hid_block.append(Linear(1024, 1024))\n",
    "            self.hid_block.append(ReLU())\n",
    "                                  \n",
    "        self.hid_block = nn.Sequential(*self.hid_block)\n",
    "        \n",
    "        \n",
    "        self.fc2 = Linear(1024, 512)\n",
    "        self.relu2 = ReLU()\n",
    "        self.fc3 = Linear(512, 128)\n",
    "        self.relu3 = ReLU()\n",
    "        self.fc4 = Linear(128, 64)\n",
    "        self.relu5 = ReLU()\n",
    "        self.fc5 = Linear(64, 10)\n",
    "        \n",
    "        self.sf = LogSoftmax()\n",
    "\n",
    "    def forward(self, inp):\n",
    "        # inp = inp.to(torch.float32)\n",
    "        # print(inp)\n",
    "        x = self.fc1(inp)\n",
    "        x = self.relu(x)\n",
    "        x = self.hid_block(x)\n",
    "        x = self.fc2(x)\n",
    "        x = self.relu2(x)\n",
    "        x = self.fc3(x)\n",
    "        x = self.relu3(x)\n",
    "        x = self.fc4(x)\n",
    "        x = self.relu5(x)\n",
    "        x = self.fc5(x)\n",
    "        x = self.sf(x)\n",
    "\n",
    "        \n",
    "        return x\n",
    "        \n",
    "    def predict(self, inp):\n",
    "\n",
    "        x = self.fc1(inp)\n",
    "        x = self.relu(x)\n",
    "\n",
    "        x = self.hid_block(x)\n",
    "        \n",
    "        x = self.fc2(x)\n",
    "        x = self.relu2(x)\n",
    "        x = self.fc3(x)\n",
    "        x = self.relu3(x)\n",
    "        x = self.fc4(x)\n",
    "        x = self.relu5(x)\n",
    "        x = self.fc5(x)\n",
    "        \n",
    "        _, preds  = torch.max(x.data, 1)\n",
    "        return preds\n"
   ]
  },
  {
   "cell_type": "code",
   "execution_count": 35,
   "metadata": {
    "id": "MbXyU_51DzWn"
   },
   "outputs": [],
   "source": [
    "test_dataloader = DataLoader(test_dataset, batch_size=15, num_workers=2, \n",
    "                             shuffle=True, collate_fn=collate)\n",
    "train_dataloader = DataLoader(train_dataset, batch_size=15, num_workers=2,\n",
    "                              shuffle=True, collate_fn=collate)"
   ]
  },
  {
   "cell_type": "markdown",
   "metadata": {
    "id": "Vj-eEvMFfbSo"
   },
   "source": [
    "Ниже приведены функции, реализующие обучение нейронной сети. В данном задании их предлагается просто переиспользовать. "
   ]
  },
  {
   "cell_type": "code",
   "execution_count": 36,
   "metadata": {
    "id": "vDhcoCB4OpXE"
   },
   "outputs": [],
   "source": [
    "class EmptyContext:\n",
    "    def __enter__(self):\n",
    "        pass\n",
    "    \n",
    "    def __exit__(self, *args):\n",
    "        pass"
   ]
  },
  {
   "cell_type": "code",
   "execution_count": 37,
   "metadata": {
    "id": "8AsWblqIOquI"
   },
   "outputs": [],
   "source": [
    "# accuract metric for our classififcation\n",
    "def accuracy(model_labels, labels):\n",
    "    return torch.mean((model_labels == labels).float())"
   ]
  },
  {
   "cell_type": "code",
   "execution_count": 38,
   "metadata": {
    "id": "Oy33FHuv_Us-"
   },
   "outputs": [],
   "source": [
    "def perform_epoch(model, loader, criterion, \n",
    "                optimizer=None, device=None):\n",
    "    is_train = optimizer is not None\n",
    "    model = model.to(device)\n",
    "    if is_train:  \n",
    "        model.train()\n",
    "    else:\n",
    "        model.eval()\n",
    "\n",
    "    total_loss = 0\n",
    "    total_acc = 0\n",
    "    total_n = 0\n",
    "    with EmptyContext() if is_train else torch.no_grad():\n",
    "        for batch_data, batch_labels in loader:\n",
    "            batch_data = batch_data.to(device)\n",
    "            # print(batch_data)\n",
    "            batch_labels = batch_labels.to(device)         \n",
    "            model_labels = model(batch_data)\n",
    "            model_prediction = model.predict(batch_data)\n",
    "            new_loss = criterion(model_labels, batch_labels)\n",
    "            if is_train:\n",
    "                optimizer.zero_grad()\n",
    "                new_loss.backward()\n",
    "                optimizer.step() \n",
    "\n",
    "            one_batch_loss = float(criterion(model_labels, batch_labels))\n",
    "            one_batch_acc = accuracy(model_prediction, batch_labels)\n",
    "            \n",
    "            total_loss += one_batch_loss\n",
    "            total_acc += one_batch_acc\n",
    "            total_n += 1 \n",
    "    return (total_loss / total_n, total_acc / total_n, model) "
   ]
  },
  {
   "cell_type": "markdown",
   "metadata": {
    "id": "FtamPEJZgOY5"
   },
   "source": [
    "Теперь обучим нашу нейронную сеть. В данном разделе будем использовать оптимизатор `Adam` с параметрами по умолчанию."
   ]
  },
  {
   "cell_type": "code",
   "execution_count": 51,
   "metadata": {
    "id": "mEcyUJJI_aAn"
   },
   "outputs": [],
   "source": [
    "model = Network()\n",
    "optimizer = Adam(\n",
    "    [\n",
    "    {\"params\":model.parameters(), \"lr\":0.001}\n",
    "    ],\n",
    ")\n",
    "criterion = CrossEntropy()\n"
   ]
  },
  {
   "cell_type": "code",
   "execution_count": null,
   "metadata": {
    "colab": {
     "base_uri": "https://localhost:8080/"
    },
    "id": "1xJoJ-oMsAal",
    "outputId": "f835a7dc-2622-44f3-aeb0-40cb3eeb55f2"
   },
   "outputs": [
    {
     "metadata": {
      "tags": null
     },
     "name": "stderr",
     "output_type": "stream",
     "text": [
      " 10%|█         | 1/10 [01:31<13:43, 91.49s/it]"
     ]
    },
    {
     "metadata": {
      "tags": null
     },
     "name": "stdout",
     "output_type": "stream",
     "text": [
      "Epoch - 0 : loss 57685365892139.28, accuracy 0.7337473630905151\n",
      "Current learning rate: 0.001\n"
     ]
    },
    {
     "metadata": {
      "tags": null
     },
     "name": "stderr",
     "output_type": "stream",
     "text": [
      "\r",
      " 20%|██        | 2/10 [03:02<12:11, 91.42s/it]"
     ]
    },
    {
     "metadata": {
      "tags": null
     },
     "name": "stdout",
     "output_type": "stream",
     "text": [
      "Epoch - 1 : loss 4645215950250.578, accuracy 0.7797844409942627\n",
      "Current learning rate: 0.001\n"
     ]
    },
    {
     "metadata": {
      "tags": null
     },
     "name": "stderr",
     "output_type": "stream",
     "text": [
      "\r",
      " 30%|███       | 3/10 [04:34<10:41, 91.59s/it]"
     ]
    },
    {
     "metadata": {
      "tags": null
     },
     "name": "stdout",
     "output_type": "stream",
     "text": [
      "Epoch - 2 : loss 1402059843010.5713, accuracy 0.7806002497673035\n",
      "Current learning rate: 0.001\n"
     ]
    },
    {
     "metadata": {
      "tags": null
     },
     "name": "stderr",
     "output_type": "stream",
     "text": [
      "\r",
      " 40%|████      | 4/10 [06:06<09:09, 91.65s/it]"
     ]
    },
    {
     "metadata": {
      "tags": null
     },
     "name": "stdout",
     "output_type": "stream",
     "text": [
      "Epoch - 3 : loss 467322630582.31476, accuracy 0.7865167856216431\n",
      "Current learning rate: 0.001\n"
     ]
    },
    {
     "metadata": {
      "tags": null
     },
     "name": "stderr",
     "output_type": "stream",
     "text": [
      "\r",
      " 50%|█████     | 5/10 [07:38<07:39, 91.86s/it]"
     ]
    },
    {
     "metadata": {
      "tags": null
     },
     "name": "stdout",
     "output_type": "stream",
     "text": [
      "Epoch - 4 : loss 178961388018.94138, accuracy 0.7829182147979736\n",
      "Current learning rate: 0.001\n"
     ]
    },
    {
     "name": "stderr",
     "output_type": "stream",
     "text": [
      "\r",
      " 60%|██████    | 6/10 [09:11<06:08, 92.09s/it]"
     ]
    },
    {
     "name": "stdout",
     "output_type": "stream",
     "text": [
      "Epoch - 5 : loss 74822905185.98503, accuracy 0.7837515473365784\n",
      "Current learning rate: 0.001\n"
     ]
    },
    {
     "name": "stderr",
     "output_type": "stream",
     "text": [
      "\r",
      " 70%|███████   | 7/10 [10:44<04:37, 92.38s/it]"
     ]
    },
    {
     "name": "stdout",
     "output_type": "stream",
     "text": [
      "Epoch - 6 : loss 35544097781.352554, accuracy 0.7788341045379639\n",
      "Current learning rate: 0.001\n"
     ]
    },
    {
     "name": "stderr",
     "output_type": "stream",
     "text": [
      "\r",
      " 80%|████████  | 8/10 [12:17<03:05, 92.70s/it]"
     ]
    },
    {
     "name": "stdout",
     "output_type": "stream",
     "text": [
      "Epoch - 7 : loss 19877612576.212757, accuracy 0.7740838527679443\n",
      "Current learning rate: 0.001\n"
     ]
    },
    {
     "name": "stderr",
     "output_type": "stream",
     "text": [
      "\r",
      " 90%|█████████ | 9/10 [13:51<01:33, 93.02s/it]"
     ]
    },
    {
     "name": "stdout",
     "output_type": "stream",
     "text": [
      "Epoch - 8 : loss 10486989988.977402, accuracy 0.7709669470787048\n",
      "Current learning rate: 0.001\n"
     ]
    },
    {
     "name": "stderr",
     "output_type": "stream",
     "text": [
      "100%|██████████| 10/10 [15:25<00:00, 92.51s/it]"
     ]
    },
    {
     "name": "stdout",
     "output_type": "stream",
     "text": [
      "Epoch - 9 : loss 7101002135.015103, accuracy 0.7685496211051941\n",
      "Current learning rate: 0.001\n"
     ]
    },
    {
     "name": "stderr",
     "output_type": "stream",
     "text": [
      "\n"
     ]
    }
   ],
   "source": [
    "from tqdm import tqdm\n",
    "device = torch.device(\"cuda\" if torch.cuda.is_available() else \"cpu\")\n",
    "\n",
    "model.to(device)\n",
    "\n",
    "for epoch in tqdm(range(10)):\n",
    "    loss, acc, model = perform_epoch(model, train_dataloader, criterion, \n",
    "                                optimizer=optimizer, device=device)\n",
    "    print(f\"Epoch - {epoch} : loss {loss}, accuracy {acc}\")\n",
    "    print(f\"Current learning rate: {optimizer.param_groups[0]['lr']}\")"
   ]
  },
  {
   "cell_type": "code",
   "execution_count": null,
   "metadata": {
    "colab": {
     "base_uri": "https://localhost:8080/"
    },
    "id": "JxrvNtm3YSJn",
    "outputId": "17cf3133-0c44-42ce-9729-b896bdf9d33f"
   },
   "outputs": [
    {
     "name": "stdout",
     "output_type": "stream",
     "text": [
      "Epoch - 9 : loss 7101002135.015103, accuracy 0.7685496211051941\n",
      "Current learning rate: 0.001\n"
     ]
    }
   ],
   "source": [
    "print(f\"Epoch - {epoch} : loss {loss}, accuracy {acc}\")\n",
    "print(f\"Current learning rate: {optimizer.param_groups[0]['lr']}\")"
   ]
  },
  {
   "cell_type": "code",
   "execution_count": null,
   "metadata": {
    "colab": {
     "base_uri": "https://localhost:8080/"
    },
    "id": "9f1htDRr42Dc",
    "outputId": "df314baa-4693-4421-ebaa-a2cac24a21bb"
   },
   "outputs": [
    {
     "name": "stdout",
     "output_type": "stream",
     "text": [
      "Epoch - 9 : loss 5692584251.111664, accuracy 0.7760108113288879\n",
      "Current learning rate: 0.001\n"
     ]
    }
   ],
   "source": [
    "from tqdm import tqdm\n",
    "device = torch.device(\"cuda\" if torch.cuda.is_available() else \"cpu\")\n",
    "\n",
    "model.to(device)\n",
    "\n",
    "loss, acc, model = perform_epoch(model, test_dataloader, criterion, \n",
    "                            optimizer=None, device=device)\n",
    "print(f\"Epoch - {epoch} : loss {loss}, accuracy {acc}\")\n",
    "print(f\"Current learning rate: {optimizer.param_groups[0]['lr']}\")"
   ]
  },
  {
   "cell_type": "markdown",
   "metadata": {
    "id": "WS41CQj0Y6Q8"
   },
   "source": [
    "Дальше:\n",
    "- Проведите эксперименты с числом слоев. \n",
    "- Постройте графики зависимости качества модели на тренировочной и тестовой выборках от числа слоев. Для получения статистически значимых результатов повторите эксперименты несколько раз.\n",
    "- Сделайте выводы. "
   ]
  },
  {
   "cell_type": "code",
   "execution_count": null,
   "metadata": {
    "colab": {
     "base_uri": "https://localhost:8080/"
    },
    "id": "N4X106SIIFiG",
    "outputId": "8e4826e3-dff1-4ed9-e7b8-05ac58a15201"
   },
   "outputs": [
    {
     "name": "stdout",
     "output_type": "stream",
     "text": [
      "train\n"
     ]
    },
    {
     "name": "stderr",
     "output_type": "stream",
     "text": [
      "100%|██████████| 10/10 [06:34<00:00, 39.45s/it]\n"
     ]
    },
    {
     "name": "stdout",
     "output_type": "stream",
     "text": [
      "train\n"
     ]
    },
    {
     "name": "stderr",
     "output_type": "stream",
     "text": [
      "100%|██████████| 10/10 [11:13<00:00, 67.30s/it]\n"
     ]
    },
    {
     "name": "stdout",
     "output_type": "stream",
     "text": [
      "train\n"
     ]
    },
    {
     "name": "stderr",
     "output_type": "stream",
     "text": [
      "100%|██████████| 10/10 [15:50<00:00, 95.03s/it]\n"
     ]
    },
    {
     "name": "stdout",
     "output_type": "stream",
     "text": [
      "train\n"
     ]
    },
    {
     "name": "stderr",
     "output_type": "stream",
     "text": [
      "100%|██████████| 10/10 [27:18<00:00, 163.83s/it]\n"
     ]
    }
   ],
   "source": [
    "layers_params = [1,3,5,10]\n",
    "train_accuracy = []\n",
    "test_accuracy = []\n",
    "\n",
    "for n_layers in layers_params:\n",
    "    model = Network(num_layers=n_layers)\n",
    "    optimizer = Adam(\n",
    "    [\n",
    "    {\"params\":model.parameters(), \"lr\":0.001}\n",
    "    ],)\n",
    "    criterion = CrossEntropy()\n",
    "\n",
    "    print(\"train\")\n",
    "    for epoch in tqdm(range(10)):\n",
    "        loss, acc, model = perform_epoch(model, train_dataloader, criterion, \n",
    "                                    optimizer=optimizer, device=device)\n",
    "\n",
    "    train_accuracy.append(acc)\n",
    "    loss, acc, model = perform_epoch(model, test_dataloader, criterion,\n",
    "                                  optimizer=None, device=device)\n",
    "    \n",
    "    test_accuracy.append(acc)\n",
    "\n",
    "\n"
   ]
  },
  {
   "cell_type": "code",
   "execution_count": null,
   "metadata": {
    "colab": {
     "base_uri": "https://localhost:8080/"
    },
    "id": "ekMixsIYPjJT",
    "outputId": "c9e79abe-c9ba-4af4-ba2b-38f9cf3b1b54"
   },
   "outputs": [
    {
     "data": {
      "text/plain": [
       "[tensor(0.7896, device='cuda:0'),\n",
       " tensor(0.7558, device='cuda:0'),\n",
       " tensor(0.7348, device='cuda:0'),\n",
       " tensor(0.1020, device='cuda:0')]"
      ]
     },
     "execution_count": 76,
     "metadata": {},
     "output_type": "execute_result"
    }
   ],
   "source": [
    "test_accuracy"
   ]
  },
  {
   "cell_type": "code",
   "execution_count": null,
   "metadata": {
    "colab": {
     "base_uri": "https://localhost:8080/"
    },
    "id": "Wk9w0dKBbFtV",
    "outputId": "ce36279f-7f27-4b40-e675-e3a06679aa7c"
   },
   "outputs": [
    {
     "data": {
      "text/plain": [
       "[tensor(0.7848, device='cuda:0'),\n",
       " tensor(0.7444, device='cuda:0'),\n",
       " tensor(0.7663, device='cuda:0'),\n",
       " tensor(0.1140, device='cuda:0')]"
      ]
     },
     "execution_count": 77,
     "metadata": {},
     "output_type": "execute_result"
    }
   ],
   "source": [
    "train_accuracy"
   ]
  },
  {
   "cell_type": "code",
   "execution_count": null,
   "metadata": {
    "colab": {
     "base_uri": "https://localhost:8080/",
     "height": 623
    },
    "id": "CyyU_gQSbKsv",
    "outputId": "ba5e10a7-b7c5-4955-bc8c-66c8430ac577"
   },
   "outputs": [
    {
     "data": {
      "text/plain": [
       "<matplotlib.legend.Legend at 0x7fb2f0b763d0>"
      ]
     },
     "execution_count": 82,
     "metadata": {},
     "output_type": "execute_result"
    },
    {
     "data": {
      "image/png": "[encoded data removed]",
      "text/plain": [
       "<Figure size 720x720 with 1 Axes>"
      ]
     },
     "metadata": {
      "needs_background": "light"
     },
     "output_type": "display_data"
    }
   ],
   "source": [
    "c = [1,3,5,10]\n",
    "train_cpu = [f.cpu() for f in train_accuracy]\n",
    "test_cpu = [f.cpu() for f in test_accuracy]\n",
    "\n",
    "plt.plot(c, train_cpu, \"g\")\n",
    "plt.plot(c, test_cpu, \"b\")\n",
    "plt.grid()\n",
    "plt.ylabel(\"Значение accuracy\")\n",
    "plt.xlabel(\"кол-во слоев\")\n",
    "plt.rcParams[\"figure.figsize\"] = (20, 20)\n",
    "plt.legend([\"train\", \"test\"])\n"
   ]
  },
  {
   "cell_type": "markdown",
   "metadata": {
    "id": "1gE4bRUvVRLc"
   },
   "source": [
    "Заметно, что при увеличении кол-ва слоев модель начинала работать хуже, скорее всего, потому что, становилась слишком сложной для такой задачи"
   ]
  },
  {
   "cell_type": "markdown",
   "metadata": {
    "id": "d3vcONKQ86mu"
   },
   "source": [
    "## 4. Бонусная часть."
   ]
  },
  {
   "cell_type": "markdown",
   "metadata": {
    "id": "Kuhxy7aW86mu"
   },
   "source": [
    "### 4.1 Реализация метода оптимизации (3 + 3 балла).\n",
    "Реализуйте сами метод оптимизации  для рассмотренной выше архитектуры. Вы можете выбрать произвольный метод от градиентного спуска до современных вариантов. Продемонстрируйте правильную работу метода оптимизации, сравните его работы с Adam. \n",
    "\n",
    "**Дополнительные баллы** вы получите, если метод будет уникален среди сдавших задание. "
   ]
  },
  {
   "cell_type": "code",
   "execution_count": null,
   "metadata": {
    "id": "GYMu0uF1p6o0"
   },
   "outputs": [],
   "source": [
    "class SotaOptimizer(Optimizer):\n",
    "    def __init__(self, params, lr=1e-3):\n",
    "        defaults = dict(lr=lr)\n",
    "        super(SotaOptimizer, self).__init__(params, defaults)\n",
    "\n",
    "    def __setstate__(self, state):\n",
    "        super(SotaOptimizer, self).__setstate__(state)\n",
    "\n",
    "    @torch.no_grad()\n",
    "    def step(self,):\n",
    "\n",
    "        for group in self.param_groups:\n",
    "            lr = group['lr']\n",
    "            for p in group['params']:\n",
    "                if p.grad is not None:\n",
    "                    p.data.add_(-lr*p.grad)"
   ]
  },
  {
   "cell_type": "markdown",
   "metadata": {
    "id": "d3aabYCykXL7"
   },
   "source": [
    "### 4.2 Реализация современной функции активации (2 + 2 балла).\n",
    "Реализуйте одну из активаций, предложенных на лекции или в статье. Например, `Hardswish`. Сравните сеть с вашей активацией и с `ReLU`. \n",
    "\n",
    "**Дополнительные баллы** вы получите, если функция будет уникальна среди сдавших задание. "
   ]
  },
  {
   "cell_type": "code",
   "execution_count": 43,
   "metadata": {
    "id": "K9vtx3Hd9y-2"
   },
   "outputs": [],
   "source": [
    "\n",
    "class SwishFunction(Function):\n",
    "    @staticmethod\n",
    "    def forward(ctx, inp, alpha):\n",
    "        sigmoided = 1/(1+torch.exp(-inp))\n",
    "        alpha = torch.tensor(alpha)\n",
    "        ctx.save_for_backward(inp, alpha, sigmoided)\n",
    "        return inp * alpha*sigmoided\n",
    "\n",
    "    @staticmethod\n",
    "    def backward(ctx, grad_output):\n",
    "        inp, alpha, sigmoided = ctx.saved_tensors\n",
    "        grad_inp = alpha*sigmoided + inp*alpha*(sigmoided*(1 -sigmoided))\n",
    "\n",
    "        return grad_inp * grad_output, None\n",
    "    \n",
    "\n",
    "class Swish(nn.Module):\n",
    "    def __init__(self, alpha):\n",
    "        super().__init__()\n",
    "        self.alpha = alpha\n",
    "        \n",
    "\n",
    "    def forward(self, inp):\n",
    "        self.swish = SwishFunction.apply(inp , self.alpha)\n",
    "        return self.swish"
   ]
  },
  {
   "cell_type": "code",
   "execution_count": 44,
   "metadata": {
    "id": "aX-M6uMf90w8"
   },
   "outputs": [],
   "source": [
    "x = torch.tensor([[1,2,3],\n",
    "                 [-1,2, 1]],dtype=torch.double,requires_grad=True)\n",
    "relu = Swish(0.1)\n",
    "assert gradcheck(relu, x)"
   ]
  },
  {
   "cell_type": "code",
   "execution_count": 45,
   "metadata": {
    "colab": {
     "base_uri": "https://localhost:8080/"
    },
    "id": "YgiW8sek-B9X",
    "outputId": "831dba33-143d-4a08-a859-1578f12a7ee1"
   },
   "outputs": [
    {
     "name": "stdout",
     "output_type": "stream",
     "text": [
      "tensor([[ 0.7311,  1.7616,  2.8577],\n",
      "        [-0.2689,  1.7616,  0.7311]], dtype=torch.float64)\n",
      "tensor([[ 0.7311,  1.7616,  2.8577],\n",
      "        [-0.2689,  1.7616,  0.7311]], dtype=torch.float64)\n"
     ]
    }
   ],
   "source": [
    "x = torch.tensor([[1,2,3],\n",
    "                 [-1,2, 1]],dtype=torch.double,requires_grad=False)\n",
    "\n",
    "torch_relu = nn.SiLU()\n",
    "our_relu = Swish(1)\n",
    "print(torch_relu(x))\n",
    "print(our_relu(x))\n",
    "assert torch.norm(torch_relu(x.float()) - our_relu(x)) < 1e-5"
   ]
  },
  {
   "cell_type": "code",
   "execution_count": 46,
   "metadata": {
    "id": "lPc6kQcj92Kc"
   },
   "outputs": [],
   "source": [
    "class Network(nn.Module):\n",
    "    def __init__(self, input_size=28*28, hidden_layers_size=32, num_layers=5,\n",
    "                 num_classes=10):\n",
    "        super().__init__()\n",
    "        self.hid_block = []\n",
    "        self.fc1 = Linear(28*28, 1024)\n",
    "        self.swish = Swish(1)\n",
    "        for i in range(num_layers):\n",
    "            self.hid_block.append(Linear(1024, 1024))\n",
    "            self.hid_block.append(Swish(1))\n",
    "                                  \n",
    "        self.hid_block = nn.Sequential(*self.hid_block)\n",
    "        \n",
    "        \n",
    "        self.fc2 = Linear(1024, 512)\n",
    "        self.swish2 = Swish(1)\n",
    "        self.fc3 = Linear(512, 128)\n",
    "        self.swish3 = Swish(1)\n",
    "        self.fc4 = Linear(128, 64)\n",
    "        self.swish5 = Swish(1)\n",
    "        self.fc5 = Linear(64, 10)\n",
    "        \n",
    "        self.sf = LogSoftmax()\n",
    "\n",
    "    def forward(self, inp):\n",
    "        # inp = inp.to(torch.float32)\n",
    "        # print(inp)\n",
    "        x = self.fc1(inp)\n",
    "        x = self.swish(x)\n",
    "        x = self.hid_block(x)\n",
    "        x = self.fc2(x)\n",
    "        x = self.swish2(x)\n",
    "        x = self.fc3(x)\n",
    "        x = self.swish3(x)\n",
    "        x = self.fc4(x)\n",
    "        x = self.swish5(x)\n",
    "        x = self.fc5(x)\n",
    "        x = self.sf(x)\n",
    "\n",
    "        \n",
    "        return x\n",
    "        \n",
    "    def predict(self, inp):\n",
    "\n",
    "        x = self.fc1(inp)\n",
    "        x = self.swish(x)\n",
    "\n",
    "        x = self.hid_block(x)\n",
    "        \n",
    "        x = self.fc2(x)\n",
    "        x = self.swish2(x)\n",
    "        x = self.fc3(x)\n",
    "        x = self.swish3(x)\n",
    "        x = self.fc4(x)\n",
    "        x = self.swish5(x)\n",
    "        x = self.fc5(x)\n",
    "        \n",
    "        _, preds  = torch.max(x.data, 1)\n",
    "        return preds\n"
   ]
  },
  {
   "cell_type": "code",
   "execution_count": 47,
   "metadata": {
    "id": "GYSx6n-H-cos"
   },
   "outputs": [],
   "source": [
    "model = Network()\n",
    "optimizer = Adam(\n",
    "    [\n",
    "    {\"params\":model.parameters(), \"lr\":0.001}\n",
    "    ],\n",
    ")\n",
    "criterion = CrossEntropy()\n"
   ]
  },
  {
   "cell_type": "code",
   "execution_count": 48,
   "metadata": {
    "colab": {
     "base_uri": "https://localhost:8080/"
    },
    "id": "DbGmAEjC-ff8",
    "outputId": "67e67efa-9feb-4361-c1c0-59d05a87e7c4"
   },
   "outputs": [
    {
     "name": "stderr",
     "output_type": "stream",
     "text": [
      " 10%|█         | 1/10 [01:37<14:35, 97.28s/it]"
     ]
    },
    {
     "name": "stdout",
     "output_type": "stream",
     "text": [
      "Epoch - 0 : loss 61260605750395.52, accuracy 0.7453978657722473\n",
      "Current learning rate: 0.001\n"
     ]
    },
    {
     "name": "stderr",
     "output_type": "stream",
     "text": [
      "\r",
      " 20%|██        | 2/10 [03:11<12:43, 95.45s/it]"
     ]
    },
    {
     "name": "stdout",
     "output_type": "stream",
     "text": [
      "Epoch - 1 : loss 4913998877569.517, accuracy 0.7758685350418091\n",
      "Current learning rate: 0.001\n"
     ]
    },
    {
     "name": "stderr",
     "output_type": "stream",
     "text": [
      "\r",
      " 30%|███       | 3/10 [04:47<11:09, 95.61s/it]"
     ]
    },
    {
     "name": "stdout",
     "output_type": "stream",
     "text": [
      "Epoch - 2 : loss 1173328118399.0312, accuracy 0.769083559513092\n",
      "Current learning rate: 0.001\n"
     ]
    },
    {
     "name": "stderr",
     "output_type": "stream",
     "text": [
      "\r",
      " 40%|████      | 4/10 [06:23<09:35, 95.99s/it]"
     ]
    },
    {
     "name": "stdout",
     "output_type": "stream",
     "text": [
      "Epoch - 3 : loss 302866793112.26685, accuracy 0.7448645830154419\n",
      "Current learning rate: 0.001\n"
     ]
    },
    {
     "name": "stderr",
     "output_type": "stream",
     "text": [
      "\r",
      " 50%|█████     | 5/10 [07:59<07:59, 95.97s/it]"
     ]
    },
    {
     "name": "stdout",
     "output_type": "stream",
     "text": [
      "Epoch - 4 : loss 136113681520.36995, accuracy 0.7284135818481445\n",
      "Current learning rate: 0.001\n"
     ]
    },
    {
     "name": "stderr",
     "output_type": "stream",
     "text": [
      "\r",
      " 60%|██████    | 6/10 [09:37<06:26, 96.58s/it]"
     ]
    },
    {
     "name": "stdout",
     "output_type": "stream",
     "text": [
      "Epoch - 5 : loss 61996377318.03156, accuracy 0.7160969376564026\n",
      "Current learning rate: 0.001\n"
     ]
    },
    {
     "name": "stderr",
     "output_type": "stream",
     "text": [
      "\r",
      " 70%|███████   | 7/10 [11:13<04:49, 96.46s/it]"
     ]
    },
    {
     "name": "stdout",
     "output_type": "stream",
     "text": [
      "Epoch - 6 : loss 31101205066.57156, accuracy 0.7154967784881592\n",
      "Current learning rate: 0.001\n"
     ]
    },
    {
     "name": "stderr",
     "output_type": "stream",
     "text": [
      "\r",
      " 80%|████████  | 8/10 [12:51<03:13, 96.76s/it]"
     ]
    },
    {
     "name": "stdout",
     "output_type": "stream",
     "text": [
      "Epoch - 7 : loss 20589202920.43689, accuracy 0.7010772824287415\n",
      "Current learning rate: 0.001\n"
     ]
    },
    {
     "name": "stderr",
     "output_type": "stream",
     "text": [
      "\r",
      " 90%|█████████ | 9/10 [14:27<01:36, 96.77s/it]"
     ]
    },
    {
     "name": "stdout",
     "output_type": "stream",
     "text": [
      "Epoch - 8 : loss 11358065102.601631, accuracy 0.6894100904464722\n",
      "Current learning rate: 0.001\n"
     ]
    },
    {
     "name": "stderr",
     "output_type": "stream",
     "text": [
      "100%|██████████| 10/10 [16:05<00:00, 96.57s/it]"
     ]
    },
    {
     "name": "stdout",
     "output_type": "stream",
     "text": [
      "Epoch - 9 : loss 12534239782.85254, accuracy 0.6781094074249268\n",
      "Current learning rate: 0.001\n"
     ]
    },
    {
     "name": "stderr",
     "output_type": "stream",
     "text": [
      "\n"
     ]
    }
   ],
   "source": [
    "from tqdm import tqdm\n",
    "device = torch.device(\"cuda\" if torch.cuda.is_available() else \"cpu\")\n",
    "\n",
    "model.to(device)\n",
    "\n",
    "for epoch in tqdm(range(10)):\n",
    "    loss, acc, model = perform_epoch(model, train_dataloader, criterion, \n",
    "                                optimizer=optimizer, device=device)\n",
    "    print(f\"Epoch - {epoch} : loss {loss}, accuracy {acc}\")\n",
    "    print(f\"Current learning rate: {optimizer.param_groups[0]['lr']}\")"
   ]
  },
  {
   "cell_type": "code",
   "execution_count": 49,
   "metadata": {
    "colab": {
     "base_uri": "https://localhost:8080/"
    },
    "id": "4SUJYOYD-h-w",
    "outputId": "3a5b49ee-2bde-47d4-8a7c-ebb2ede13bb5"
   },
   "outputs": [
    {
     "name": "stdout",
     "output_type": "stream",
     "text": [
      "Epoch - 9 : loss 12534239782.85254, accuracy 0.6781094074249268\n",
      "Current learning rate: 0.001\n"
     ]
    }
   ],
   "source": [
    "print(f\"Epoch - {epoch} : loss {loss}, accuracy {acc}\")\n",
    "print(f\"Current learning rate: {optimizer.param_groups[0]['lr']}\")"
   ]
  },
  {
   "cell_type": "code",
   "execution_count": 50,
   "metadata": {
    "colab": {
     "base_uri": "https://localhost:8080/"
    },
    "id": "Ot2L6q9_-oD8",
    "outputId": "c0e262ca-ec4f-4c8a-e7e4-655ad58e58ab"
   },
   "outputs": [
    {
     "name": "stdout",
     "output_type": "stream",
     "text": [
      "Epoch - 9 : loss 10294097370.041733, accuracy 0.636831521987915\n",
      "Current learning rate: 0.001\n"
     ]
    }
   ],
   "source": [
    "from tqdm import tqdm\n",
    "device = torch.device(\"cuda\" if torch.cuda.is_available() else \"cpu\")\n",
    "\n",
    "model.to(device)\n",
    "\n",
    "\n",
    "loss, acc, model = perform_epoch(model, test_dataloader, criterion, \n",
    "                            optimizer=None, device=device)\n",
    "print(f\"Epoch - {epoch} : loss {loss}, accuracy {acc}\")\n",
    "print(f\"Current learning rate: {optimizer.param_groups[0]['lr']}\")"
   ]
  },
  {
   "cell_type": "markdown",
   "metadata": {
    "id": "xTNXIgf1EwKI"
   },
   "source": [
    "\n",
    "Заметно, что модель стала работать хуже с Swish-функцией активацией, возможно это связано с тем, что модель недостаточно глубокая"
   ]
  }
 ],
 "metadata": {
  "accelerator": "GPU",
  "colab": {
   "collapsed_sections": [],
   "provenance": []
  },
  "kernelspec": {
   "display_name": "Python 3 (ipykernel)",
   "language": "python",
   "name": "python3"
  },
  "language_info": {
   "codemirror_mode": {
    "name": "ipython",
    "version": 3
   },
   "file_extension": ".py",
   "mimetype": "text/x-python",
   "name": "python",
   "nbconvert_exporter": "python",
   "pygments_lexer": "ipython3",
   "version": "3.9.16"
  },
  "widgets": {
   "application/vnd.jupyter.widget-state+json": {
    "0309ef5cb14c44c78167406f99407c0f": {
     "model_module": "@jupyter-widgets/controls",
     "model_module_version": "1.5.0",
     "model_name": "DescriptionStyleModel",
     "state": {
      "_model_module": "@jupyter-widgets/controls",
      "_model_module_version": "1.5.0",
      "_model_name": "DescriptionStyleModel",
      "_view_count": null,
      "_view_module": "@jupyter-widgets/base",
      "_view_module_version": "1.2.0",
      "_view_name": "StyleView",
      "description_width": ""
     }
    },
    "091f68e11c9a4ffc9c6e2da7d63300db": {
     "model_module": "@jupyter-widgets/base",
     "model_module_version": "1.2.0",
     "model_name": "LayoutModel",
     "state": {
      "_model_module": "@jupyter-widgets/base",
      "_model_module_version": "1.2.0",
      "_model_name": "LayoutModel",
      "_view_count": null,
      "_view_module": "@jupyter-widgets/base",
      "_view_module_version": "1.2.0",
      "_view_name": "LayoutView",
      "align_content": null,
      "align_items": null,
      "align_self": null,
      "border": null,
      "bottom": null,
      "display": null,
      "flex": null,
      "flex_flow": null,
      "grid_area": null,
      "grid_auto_columns": null,
      "grid_auto_flow": null,
      "grid_auto_rows": null,
      "grid_column": null,
      "grid_gap": null,
      "grid_row": null,
      "grid_template_areas": null,
      "grid_template_columns": null,
      "grid_template_rows": null,
      "height": null,
      "justify_content": null,
      "justify_items": null,
      "left": null,
      "margin": null,
      "max_height": null,
      "max_width": null,
      "min_height": null,
      "min_width": null,
      "object_fit": null,
      "object_position": null,
      "order": null,
      "overflow": null,
      "overflow_x": null,
      "overflow_y": null,
      "padding": null,
      "right": null,
      "top": null,
      "visibility": null,
      "width": null
     }
    },
    "09e4a61c7fd64d26963d60c61e417d9e": {
     "model_module": "@jupyter-widgets/controls",
     "model_module_version": "1.5.0",
     "model_name": "HTMLModel",
     "state": {
      "_dom_classes": [],
      "_model_module": "@jupyter-widgets/controls",
      "_model_module_version": "1.5.0",
      "_model_name": "HTMLModel",
      "_view_count": null,
      "_view_module": "@jupyter-widgets/controls",
      "_view_module_version": "1.5.0",
      "_view_name": "HTMLView",
      "description": "",
      "description_tooltip": null,
      "layout": "IPY_MODEL_abad64b40a3f4822aa81af944ef5af3f",
      "placeholder": "​",
      "style": "IPY_MODEL_15348e47dc36479bad69f5e8fdf569c7",
      "value": " 29515/29515 [00:00&lt;00:00, 142885.70it/s]"
     }
    },
    "131f9977ebe346eca7219ed8a61ab1df": {
     "model_module": "@jupyter-widgets/controls",
     "model_module_version": "1.5.0",
     "model_name": "DescriptionStyleModel",
     "state": {
      "_model_module": "@jupyter-widgets/controls",
      "_model_module_version": "1.5.0",
      "_model_name": "DescriptionStyleModel",
      "_view_count": null,
      "_view_module": "@jupyter-widgets/base",
      "_view_module_version": "1.2.0",
      "_view_name": "StyleView",
      "description_width": ""
     }
    },
    "15348e47dc36479bad69f5e8fdf569c7": {
     "model_module": "@jupyter-widgets/controls",
     "model_module_version": "1.5.0",
     "model_name": "DescriptionStyleModel",
     "state": {
      "_model_module": "@jupyter-widgets/controls",
      "_model_module_version": "1.5.0",
      "_model_name": "DescriptionStyleModel",
      "_view_count": null,
      "_view_module": "@jupyter-widgets/base",
      "_view_module_version": "1.2.0",
      "_view_name": "StyleView",
      "description_width": ""
     }
    },
    "1c8c3432ba0f4e7685a958fc4c00e7c5": {
     "model_module": "@jupyter-widgets/controls",
     "model_module_version": "1.5.0",
     "model_name": "HTMLModel",
     "state": {
      "_dom_classes": [],
      "_model_module": "@jupyter-widgets/controls",
      "_model_module_version": "1.5.0",
      "_model_name": "HTMLModel",
      "_view_count": null,
      "_view_module": "@jupyter-widgets/controls",
      "_view_module_version": "1.5.0",
      "_view_name": "HTMLView",
      "description": "",
      "description_tooltip": null,
      "layout": "IPY_MODEL_8a919be3c4d547ae9516ab7b6053c8ec",
      "placeholder": "​",
      "style": "IPY_MODEL_89f3fe6e62fe415fb1d4b36611482875",
      "value": " 5148/5148 [00:00&lt;00:00, 167445.60it/s]"
     }
    },
    "25b6c1228559415f9bb8a58a57c234eb": {
     "model_module": "@jupyter-widgets/controls",
     "model_module_version": "1.5.0",
     "model_name": "ProgressStyleModel",
     "state": {
      "_model_module": "@jupyter-widgets/controls",
      "_model_module_version": "1.5.0",
      "_model_name": "ProgressStyleModel",
      "_view_count": null,
      "_view_module": "@jupyter-widgets/base",
      "_view_module_version": "1.2.0",
      "_view_name": "StyleView",
      "bar_color": null,
      "description_width": ""
     }
    },
    "2c1965c430024e9f8aa34f31fe0a7cb3": {
     "model_module": "@jupyter-widgets/base",
     "model_module_version": "1.2.0",
     "model_name": "LayoutModel",
     "state": {
      "_model_module": "@jupyter-widgets/base",
      "_model_module_version": "1.2.0",
      "_model_name": "LayoutModel",
      "_view_count": null,
      "_view_module": "@jupyter-widgets/base",
      "_view_module_version": "1.2.0",
      "_view_name": "LayoutView",
      "align_content": null,
      "align_items": null,
      "align_self": null,
      "border": null,
      "bottom": null,
      "display": null,
      "flex": null,
      "flex_flow": null,
      "grid_area": null,
      "grid_auto_columns": null,
      "grid_auto_flow": null,
      "grid_auto_rows": null,
      "grid_column": null,
      "grid_gap": null,
      "grid_row": null,
      "grid_template_areas": null,
      "grid_template_columns": null,
      "grid_template_rows": null,
      "height": null,
      "justify_content": null,
      "justify_items": null,
      "left": null,
      "margin": null,
      "max_height": null,
      "max_width": null,
      "min_height": null,
      "min_width": null,
      "object_fit": null,
      "object_position": null,
      "order": null,
      "overflow": null,
      "overflow_x": null,
      "overflow_y": null,
      "padding": null,
      "right": null,
      "top": null,
      "visibility": null,
      "width": null
     }
    },
    "3d0f668a82b347a7b6b17872a430b92e": {
     "model_module": "@jupyter-widgets/base",
     "model_module_version": "1.2.0",
     "model_name": "LayoutModel",
     "state": {
      "_model_module": "@jupyter-widgets/base",
      "_model_module_version": "1.2.0",
      "_model_name": "LayoutModel",
      "_view_count": null,
      "_view_module": "@jupyter-widgets/base",
      "_view_module_version": "1.2.0",
      "_view_name": "LayoutView",
      "align_content": null,
      "align_items": null,
      "align_self": null,
      "border": null,
      "bottom": null,
      "display": null,
      "flex": null,
      "flex_flow": null,
      "grid_area": null,
      "grid_auto_columns": null,
      "grid_auto_flow": null,
      "grid_auto_rows": null,
      "grid_column": null,
      "grid_gap": null,
      "grid_row": null,
      "grid_template_areas": null,
      "grid_template_columns": null,
      "grid_template_rows": null,
      "height": null,
      "justify_content": null,
      "justify_items": null,
      "left": null,
      "margin": null,
      "max_height": null,
      "max_width": null,
      "min_height": null,
      "min_width": null,
      "object_fit": null,
      "object_position": null,
      "order": null,
      "overflow": null,
      "overflow_x": null,
      "overflow_y": null,
      "padding": null,
      "right": null,
      "top": null,
      "visibility": null,
      "width": null
     }
    },
    "3d31f3a312c843faabfabc4f2a941208": {
     "model_module": "@jupyter-widgets/base",
     "model_module_version": "1.2.0",
     "model_name": "LayoutModel",
     "state": {
      "_model_module": "@jupyter-widgets/base",
      "_model_module_version": "1.2.0",
      "_model_name": "LayoutModel",
      "_view_count": null,
      "_view_module": "@jupyter-widgets/base",
      "_view_module_version": "1.2.0",
      "_view_name": "LayoutView",
      "align_content": null,
      "align_items": null,
      "align_self": null,
      "border": null,
      "bottom": null,
      "display": null,
      "flex": null,
      "flex_flow": null,
      "grid_area": null,
      "grid_auto_columns": null,
      "grid_auto_flow": null,
      "grid_auto_rows": null,
      "grid_column": null,
      "grid_gap": null,
      "grid_row": null,
      "grid_template_areas": null,
      "grid_template_columns": null,
      "grid_template_rows": null,
      "height": null,
      "justify_content": null,
      "justify_items": null,
      "left": null,
      "margin": null,
      "max_height": null,
      "max_width": null,
      "min_height": null,
      "min_width": null,
      "object_fit": null,
      "object_position": null,
      "order": null,
      "overflow": null,
      "overflow_x": null,
      "overflow_y": null,
      "padding": null,
      "right": null,
      "top": null,
      "visibility": null,
      "width": null
     }
    },
    "457f2eac26db4969bc2899c55fd775ca": {
     "model_module": "@jupyter-widgets/controls",
     "model_module_version": "1.5.0",
     "model_name": "HBoxModel",
     "state": {
      "_dom_classes": [],
      "_model_module": "@jupyter-widgets/controls",
      "_model_module_version": "1.5.0",
      "_model_name": "HBoxModel",
      "_view_count": null,
      "_view_module": "@jupyter-widgets/controls",
      "_view_module_version": "1.5.0",
      "_view_name": "HBoxView",
      "box_style": "",
      "children": [
       "IPY_MODEL_93bb8b5453b44b81933905403ad82c00",
       "IPY_MODEL_c7c9464ce3e24170acb6ca82d32566d8",
       "IPY_MODEL_09e4a61c7fd64d26963d60c61e417d9e"
      ],
      "layout": "IPY_MODEL_77a162fa3c79444681abce11aeb0181a"
     }
    },
    "50846d8d362c452b900920c68efa9e6d": {
     "model_module": "@jupyter-widgets/base",
     "model_module_version": "1.2.0",
     "model_name": "LayoutModel",
     "state": {
      "_model_module": "@jupyter-widgets/base",
      "_model_module_version": "1.2.0",
      "_model_name": "LayoutModel",
      "_view_count": null,
      "_view_module": "@jupyter-widgets/base",
      "_view_module_version": "1.2.0",
      "_view_name": "LayoutView",
      "align_content": null,
      "align_items": null,
      "align_self": null,
      "border": null,
      "bottom": null,
      "display": null,
      "flex": null,
      "flex_flow": null,
      "grid_area": null,
      "grid_auto_columns": null,
      "grid_auto_flow": null,
      "grid_auto_rows": null,
      "grid_column": null,
      "grid_gap": null,
      "grid_row": null,
      "grid_template_areas": null,
      "grid_template_columns": null,
      "grid_template_rows": null,
      "height": null,
      "justify_content": null,
      "justify_items": null,
      "left": null,
      "margin": null,
      "max_height": null,
      "max_width": null,
      "min_height": null,
      "min_width": null,
      "object_fit": null,
      "object_position": null,
      "order": null,
      "overflow": null,
      "overflow_x": null,
      "overflow_y": null,
      "padding": null,
      "right": null,
      "top": null,
      "visibility": null,
      "width": null
     }
    },
    "5a82081abbcd47dcb20c5dd471b110d3": {
     "model_module": "@jupyter-widgets/controls",
     "model_module_version": "1.5.0",
     "model_name": "ProgressStyleModel",
     "state": {
      "_model_module": "@jupyter-widgets/controls",
      "_model_module_version": "1.5.0",
      "_model_name": "ProgressStyleModel",
      "_view_count": null,
      "_view_module": "@jupyter-widgets/base",
      "_view_module_version": "1.2.0",
      "_view_name": "StyleView",
      "bar_color": null,
      "description_width": ""
     }
    },
    "6e469e997af74b2893cce66b46b2e323": {
     "model_module": "@jupyter-widgets/controls",
     "model_module_version": "1.5.0",
     "model_name": "HTMLModel",
     "state": {
      "_dom_classes": [],
      "_model_module": "@jupyter-widgets/controls",
      "_model_module_version": "1.5.0",
      "_model_name": "HTMLModel",
      "_view_count": null,
      "_view_module": "@jupyter-widgets/controls",
      "_view_module_version": "1.5.0",
      "_view_name": "HTMLView",
      "description": "",
      "description_tooltip": null,
      "layout": "IPY_MODEL_a3b20dbd8134420da827d8e9b543af41",
      "placeholder": "​",
      "style": "IPY_MODEL_131f9977ebe346eca7219ed8a61ab1df",
      "value": "100%"
     }
    },
    "70cc1fa9b57546ca801e3593ca9b4e72": {
     "model_module": "@jupyter-widgets/controls",
     "model_module_version": "1.5.0",
     "model_name": "ProgressStyleModel",
     "state": {
      "_model_module": "@jupyter-widgets/controls",
      "_model_module_version": "1.5.0",
      "_model_name": "ProgressStyleModel",
      "_view_count": null,
      "_view_module": "@jupyter-widgets/base",
      "_view_module_version": "1.2.0",
      "_view_name": "StyleView",
      "bar_color": null,
      "description_width": ""
     }
    },
    "7237b64f69ea402da624a9318a46965c": {
     "model_module": "@jupyter-widgets/base",
     "model_module_version": "1.2.0",
     "model_name": "LayoutModel",
     "state": {
      "_model_module": "@jupyter-widgets/base",
      "_model_module_version": "1.2.0",
      "_model_name": "LayoutModel",
      "_view_count": null,
      "_view_module": "@jupyter-widgets/base",
      "_view_module_version": "1.2.0",
      "_view_name": "LayoutView",
      "align_content": null,
      "align_items": null,
      "align_self": null,
      "border": null,
      "bottom": null,
      "display": null,
      "flex": null,
      "flex_flow": null,
      "grid_area": null,
      "grid_auto_columns": null,
      "grid_auto_flow": null,
      "grid_auto_rows": null,
      "grid_column": null,
      "grid_gap": null,
      "grid_row": null,
      "grid_template_areas": null,
      "grid_template_columns": null,
      "grid_template_rows": null,
      "height": null,
      "justify_content": null,
      "justify_items": null,
      "left": null,
      "margin": null,
      "max_height": null,
      "max_width": null,
      "min_height": null,
      "min_width": null,
      "object_fit": null,
      "object_position": null,
      "order": null,
      "overflow": null,
      "overflow_x": null,
      "overflow_y": null,
      "padding": null,
      "right": null,
      "top": null,
      "visibility": null,
      "width": null
     }
    },
    "73359e1e69324e8298c17bc77ae515fc": {
     "model_module": "@jupyter-widgets/controls",
     "model_module_version": "1.5.0",
     "model_name": "HBoxModel",
     "state": {
      "_dom_classes": [],
      "_model_module": "@jupyter-widgets/controls",
      "_model_module_version": "1.5.0",
      "_model_name": "HBoxModel",
      "_view_count": null,
      "_view_module": "@jupyter-widgets/controls",
      "_view_module_version": "1.5.0",
      "_view_name": "HBoxView",
      "box_style": "",
      "children": [
       "IPY_MODEL_8e2070b7579a4e3b998e797e5be6c011",
       "IPY_MODEL_9c947500c3af4993904786261b5bf514",
       "IPY_MODEL_78a39233e77249eb9d88cf4ad5c01e3c"
      ],
      "layout": "IPY_MODEL_adc1c2ea69e549cfa0020d29c8109278"
     }
    },
    "7541ec40e1b54c84986cc866dc56e16b": {
     "model_module": "@jupyter-widgets/base",
     "model_module_version": "1.2.0",
     "model_name": "LayoutModel",
     "state": {
      "_model_module": "@jupyter-widgets/base",
      "_model_module_version": "1.2.0",
      "_model_name": "LayoutModel",
      "_view_count": null,
      "_view_module": "@jupyter-widgets/base",
      "_view_module_version": "1.2.0",
      "_view_name": "LayoutView",
      "align_content": null,
      "align_items": null,
      "align_self": null,
      "border": null,
      "bottom": null,
      "display": null,
      "flex": null,
      "flex_flow": null,
      "grid_area": null,
      "grid_auto_columns": null,
      "grid_auto_flow": null,
      "grid_auto_rows": null,
      "grid_column": null,
      "grid_gap": null,
      "grid_row": null,
      "grid_template_areas": null,
      "grid_template_columns": null,
      "grid_template_rows": null,
      "height": null,
      "justify_content": null,
      "justify_items": null,
      "left": null,
      "margin": null,
      "max_height": null,
      "max_width": null,
      "min_height": null,
      "min_width": null,
      "object_fit": null,
      "object_position": null,
      "order": null,
      "overflow": null,
      "overflow_x": null,
      "overflow_y": null,
      "padding": null,
      "right": null,
      "top": null,
      "visibility": null,
      "width": null
     }
    },
    "77a162fa3c79444681abce11aeb0181a": {
     "model_module": "@jupyter-widgets/base",
     "model_module_version": "1.2.0",
     "model_name": "LayoutModel",
     "state": {
      "_model_module": "@jupyter-widgets/base",
      "_model_module_version": "1.2.0",
      "_model_name": "LayoutModel",
      "_view_count": null,
      "_view_module": "@jupyter-widgets/base",
      "_view_module_version": "1.2.0",
      "_view_name": "LayoutView",
      "align_content": null,
      "align_items": null,
      "align_self": null,
      "border": null,
      "bottom": null,
      "display": null,
      "flex": null,
      "flex_flow": null,
      "grid_area": null,
      "grid_auto_columns": null,
      "grid_auto_flow": null,
      "grid_auto_rows": null,
      "grid_column": null,
      "grid_gap": null,
      "grid_row": null,
      "grid_template_areas": null,
      "grid_template_columns": null,
      "grid_template_rows": null,
      "height": null,
      "justify_content": null,
      "justify_items": null,
      "left": null,
      "margin": null,
      "max_height": null,
      "max_width": null,
      "min_height": null,
      "min_width": null,
      "object_fit": null,
      "object_position": null,
      "order": null,
      "overflow": null,
      "overflow_x": null,
      "overflow_y": null,
      "padding": null,
      "right": null,
      "top": null,
      "visibility": null,
      "width": null
     }
    },
    "77b6131df0fd4e4d9fc1abc2ec874764": {
     "model_module": "@jupyter-widgets/controls",
     "model_module_version": "1.5.0",
     "model_name": "HTMLModel",
     "state": {
      "_dom_classes": [],
      "_model_module": "@jupyter-widgets/controls",
      "_model_module_version": "1.5.0",
      "_model_name": "HTMLModel",
      "_view_count": null,
      "_view_module": "@jupyter-widgets/controls",
      "_view_module_version": "1.5.0",
      "_view_name": "HTMLView",
      "description": "",
      "description_tooltip": null,
      "layout": "IPY_MODEL_2c1965c430024e9f8aa34f31fe0a7cb3",
      "placeholder": "​",
      "style": "IPY_MODEL_ef22f0eba8fd4f439ed6fd5653eda3dc",
      "value": "100%"
     }
    },
    "78a39233e77249eb9d88cf4ad5c01e3c": {
     "model_module": "@jupyter-widgets/controls",
     "model_module_version": "1.5.0",
     "model_name": "HTMLModel",
     "state": {
      "_dom_classes": [],
      "_model_module": "@jupyter-widgets/controls",
      "_model_module_version": "1.5.0",
      "_model_name": "HTMLModel",
      "_view_count": null,
      "_view_module": "@jupyter-widgets/controls",
      "_view_module_version": "1.5.0",
      "_view_name": "HTMLView",
      "description": "",
      "description_tooltip": null,
      "layout": "IPY_MODEL_7237b64f69ea402da624a9318a46965c",
      "placeholder": "​",
      "style": "IPY_MODEL_d8d802b9d5804be2ba4ee45b7753ccba",
      "value": " 4422102/4422102 [00:01&lt;00:00, 4627728.71it/s]"
     }
    },
    "89f3fe6e62fe415fb1d4b36611482875": {
     "model_module": "@jupyter-widgets/controls",
     "model_module_version": "1.5.0",
     "model_name": "DescriptionStyleModel",
     "state": {
      "_model_module": "@jupyter-widgets/controls",
      "_model_module_version": "1.5.0",
      "_model_name": "DescriptionStyleModel",
      "_view_count": null,
      "_view_module": "@jupyter-widgets/base",
      "_view_module_version": "1.2.0",
      "_view_name": "StyleView",
      "description_width": ""
     }
    },
    "8a919be3c4d547ae9516ab7b6053c8ec": {
     "model_module": "@jupyter-widgets/base",
     "model_module_version": "1.2.0",
     "model_name": "LayoutModel",
     "state": {
      "_model_module": "@jupyter-widgets/base",
      "_model_module_version": "1.2.0",
      "_model_name": "LayoutModel",
      "_view_count": null,
      "_view_module": "@jupyter-widgets/base",
      "_view_module_version": "1.2.0",
      "_view_name": "LayoutView",
      "align_content": null,
      "align_items": null,
      "align_self": null,
      "border": null,
      "bottom": null,
      "display": null,
      "flex": null,
      "flex_flow": null,
      "grid_area": null,
      "grid_auto_columns": null,
      "grid_auto_flow": null,
      "grid_auto_rows": null,
      "grid_column": null,
      "grid_gap": null,
      "grid_row": null,
      "grid_template_areas": null,
      "grid_template_columns": null,
      "grid_template_rows": null,
      "height": null,
      "justify_content": null,
      "justify_items": null,
      "left": null,
      "margin": null,
      "max_height": null,
      "max_width": null,
      "min_height": null,
      "min_width": null,
      "object_fit": null,
      "object_position": null,
      "order": null,
      "overflow": null,
      "overflow_x": null,
      "overflow_y": null,
      "padding": null,
      "right": null,
      "top": null,
      "visibility": null,
      "width": null
     }
    },
    "8e2070b7579a4e3b998e797e5be6c011": {
     "model_module": "@jupyter-widgets/controls",
     "model_module_version": "1.5.0",
     "model_name": "HTMLModel",
     "state": {
      "_dom_classes": [],
      "_model_module": "@jupyter-widgets/controls",
      "_model_module_version": "1.5.0",
      "_model_name": "HTMLModel",
      "_view_count": null,
      "_view_module": "@jupyter-widgets/controls",
      "_view_module_version": "1.5.0",
      "_view_name": "HTMLView",
      "description": "",
      "description_tooltip": null,
      "layout": "IPY_MODEL_c639b4917bde49739246fd00d5b0a3b3",
      "placeholder": "​",
      "style": "IPY_MODEL_91f75032ca8b48738f4f0c65cd7c2118",
      "value": "100%"
     }
    },
    "91f75032ca8b48738f4f0c65cd7c2118": {
     "model_module": "@jupyter-widgets/controls",
     "model_module_version": "1.5.0",
     "model_name": "DescriptionStyleModel",
     "state": {
      "_model_module": "@jupyter-widgets/controls",
      "_model_module_version": "1.5.0",
      "_model_name": "DescriptionStyleModel",
      "_view_count": null,
      "_view_module": "@jupyter-widgets/base",
      "_view_module_version": "1.2.0",
      "_view_name": "StyleView",
      "description_width": ""
     }
    },
    "93bb8b5453b44b81933905403ad82c00": {
     "model_module": "@jupyter-widgets/controls",
     "model_module_version": "1.5.0",
     "model_name": "HTMLModel",
     "state": {
      "_dom_classes": [],
      "_model_module": "@jupyter-widgets/controls",
      "_model_module_version": "1.5.0",
      "_model_name": "HTMLModel",
      "_view_count": null,
      "_view_module": "@jupyter-widgets/controls",
      "_view_module_version": "1.5.0",
      "_view_name": "HTMLView",
      "description": "",
      "description_tooltip": null,
      "layout": "IPY_MODEL_50846d8d362c452b900920c68efa9e6d",
      "placeholder": "​",
      "style": "IPY_MODEL_b099d2ae61b149bfbade44c13eefbf1d",
      "value": "100%"
     }
    },
    "9c1b84406a9a46069ca10a3e68e85a5d": {
     "model_module": "@jupyter-widgets/controls",
     "model_module_version": "1.5.0",
     "model_name": "HBoxModel",
     "state": {
      "_dom_classes": [],
      "_model_module": "@jupyter-widgets/controls",
      "_model_module_version": "1.5.0",
      "_model_name": "HBoxModel",
      "_view_count": null,
      "_view_module": "@jupyter-widgets/controls",
      "_view_module_version": "1.5.0",
      "_view_name": "HBoxView",
      "box_style": "",
      "children": [
       "IPY_MODEL_77b6131df0fd4e4d9fc1abc2ec874764",
       "IPY_MODEL_ca8384ff34fc49f0994d093bcec7b2a1",
       "IPY_MODEL_1c8c3432ba0f4e7685a958fc4c00e7c5"
      ],
      "layout": "IPY_MODEL_3d31f3a312c843faabfabc4f2a941208"
     }
    },
    "9c947500c3af4993904786261b5bf514": {
     "model_module": "@jupyter-widgets/controls",
     "model_module_version": "1.5.0",
     "model_name": "FloatProgressModel",
     "state": {
      "_dom_classes": [],
      "_model_module": "@jupyter-widgets/controls",
      "_model_module_version": "1.5.0",
      "_model_name": "FloatProgressModel",
      "_view_count": null,
      "_view_module": "@jupyter-widgets/controls",
      "_view_module_version": "1.5.0",
      "_view_name": "ProgressView",
      "bar_style": "success",
      "description": "",
      "description_tooltip": null,
      "layout": "IPY_MODEL_091f68e11c9a4ffc9c6e2da7d63300db",
      "max": 4422102,
      "min": 0,
      "orientation": "horizontal",
      "style": "IPY_MODEL_70cc1fa9b57546ca801e3593ca9b4e72",
      "value": 4422102
     }
    },
    "a3b20dbd8134420da827d8e9b543af41": {
     "model_module": "@jupyter-widgets/base",
     "model_module_version": "1.2.0",
     "model_name": "LayoutModel",
     "state": {
      "_model_module": "@jupyter-widgets/base",
      "_model_module_version": "1.2.0",
      "_model_name": "LayoutModel",
      "_view_count": null,
      "_view_module": "@jupyter-widgets/base",
      "_view_module_version": "1.2.0",
      "_view_name": "LayoutView",
      "align_content": null,
      "align_items": null,
      "align_self": null,
      "border": null,
      "bottom": null,
      "display": null,
      "flex": null,
      "flex_flow": null,
      "grid_area": null,
      "grid_auto_columns": null,
      "grid_auto_flow": null,
      "grid_auto_rows": null,
      "grid_column": null,
      "grid_gap": null,
      "grid_row": null,
      "grid_template_areas": null,
      "grid_template_columns": null,
      "grid_template_rows": null,
      "height": null,
      "justify_content": null,
      "justify_items": null,
      "left": null,
      "margin": null,
      "max_height": null,
      "max_width": null,
      "min_height": null,
      "min_width": null,
      "object_fit": null,
      "object_position": null,
      "order": null,
      "overflow": null,
      "overflow_x": null,
      "overflow_y": null,
      "padding": null,
      "right": null,
      "top": null,
      "visibility": null,
      "width": null
     }
    },
    "abad64b40a3f4822aa81af944ef5af3f": {
     "model_module": "@jupyter-widgets/base",
     "model_module_version": "1.2.0",
     "model_name": "LayoutModel",
     "state": {
      "_model_module": "@jupyter-widgets/base",
      "_model_module_version": "1.2.0",
      "_model_name": "LayoutModel",
      "_view_count": null,
      "_view_module": "@jupyter-widgets/base",
      "_view_module_version": "1.2.0",
      "_view_name": "LayoutView",
      "align_content": null,
      "align_items": null,
      "align_self": null,
      "border": null,
      "bottom": null,
      "display": null,
      "flex": null,
      "flex_flow": null,
      "grid_area": null,
      "grid_auto_columns": null,
      "grid_auto_flow": null,
      "grid_auto_rows": null,
      "grid_column": null,
      "grid_gap": null,
      "grid_row": null,
      "grid_template_areas": null,
      "grid_template_columns": null,
      "grid_template_rows": null,
      "height": null,
      "justify_content": null,
      "justify_items": null,
      "left": null,
      "margin": null,
      "max_height": null,
      "max_width": null,
      "min_height": null,
      "min_width": null,
      "object_fit": null,
      "object_position": null,
      "order": null,
      "overflow": null,
      "overflow_x": null,
      "overflow_y": null,
      "padding": null,
      "right": null,
      "top": null,
      "visibility": null,
      "width": null
     }
    },
    "ac8f15ce0f974d31b5c3de2907c0b937": {
     "model_module": "@jupyter-widgets/controls",
     "model_module_version": "1.5.0",
     "model_name": "HBoxModel",
     "state": {
      "_dom_classes": [],
      "_model_module": "@jupyter-widgets/controls",
      "_model_module_version": "1.5.0",
      "_model_name": "HBoxModel",
      "_view_count": null,
      "_view_module": "@jupyter-widgets/controls",
      "_view_module_version": "1.5.0",
      "_view_name": "HBoxView",
      "box_style": "",
      "children": [
       "IPY_MODEL_6e469e997af74b2893cce66b46b2e323",
       "IPY_MODEL_d35d53ff3729422faa55585d324babb0",
       "IPY_MODEL_ba4b7af0487344168c80f820e75aca3c"
      ],
      "layout": "IPY_MODEL_e5e4506d2c4643c5b7439aff3372852c"
     }
    },
    "adc1c2ea69e549cfa0020d29c8109278": {
     "model_module": "@jupyter-widgets/base",
     "model_module_version": "1.2.0",
     "model_name": "LayoutModel",
     "state": {
      "_model_module": "@jupyter-widgets/base",
      "_model_module_version": "1.2.0",
      "_model_name": "LayoutModel",
      "_view_count": null,
      "_view_module": "@jupyter-widgets/base",
      "_view_module_version": "1.2.0",
      "_view_name": "LayoutView",
      "align_content": null,
      "align_items": null,
      "align_self": null,
      "border": null,
      "bottom": null,
      "display": null,
      "flex": null,
      "flex_flow": null,
      "grid_area": null,
      "grid_auto_columns": null,
      "grid_auto_flow": null,
      "grid_auto_rows": null,
      "grid_column": null,
      "grid_gap": null,
      "grid_row": null,
      "grid_template_areas": null,
      "grid_template_columns": null,
      "grid_template_rows": null,
      "height": null,
      "justify_content": null,
      "justify_items": null,
      "left": null,
      "margin": null,
      "max_height": null,
      "max_width": null,
      "min_height": null,
      "min_width": null,
      "object_fit": null,
      "object_position": null,
      "order": null,
      "overflow": null,
      "overflow_x": null,
      "overflow_y": null,
      "padding": null,
      "right": null,
      "top": null,
      "visibility": null,
      "width": null
     }
    },
    "b099d2ae61b149bfbade44c13eefbf1d": {
     "model_module": "@jupyter-widgets/controls",
     "model_module_version": "1.5.0",
     "model_name": "DescriptionStyleModel",
     "state": {
      "_model_module": "@jupyter-widgets/controls",
      "_model_module_version": "1.5.0",
      "_model_name": "DescriptionStyleModel",
      "_view_count": null,
      "_view_module": "@jupyter-widgets/base",
      "_view_module_version": "1.2.0",
      "_view_name": "StyleView",
      "description_width": ""
     }
    },
    "ba4b7af0487344168c80f820e75aca3c": {
     "model_module": "@jupyter-widgets/controls",
     "model_module_version": "1.5.0",
     "model_name": "HTMLModel",
     "state": {
      "_dom_classes": [],
      "_model_module": "@jupyter-widgets/controls",
      "_model_module_version": "1.5.0",
      "_model_name": "HTMLModel",
      "_view_count": null,
      "_view_module": "@jupyter-widgets/controls",
      "_view_module_version": "1.5.0",
      "_view_name": "HTMLView",
      "description": "",
      "description_tooltip": null,
      "layout": "IPY_MODEL_3d0f668a82b347a7b6b17872a430b92e",
      "placeholder": "​",
      "style": "IPY_MODEL_0309ef5cb14c44c78167406f99407c0f",
      "value": " 26421880/26421880 [00:03&lt;00:00, 14356176.02it/s]"
     }
    },
    "c639b4917bde49739246fd00d5b0a3b3": {
     "model_module": "@jupyter-widgets/base",
     "model_module_version": "1.2.0",
     "model_name": "LayoutModel",
     "state": {
      "_model_module": "@jupyter-widgets/base",
      "_model_module_version": "1.2.0",
      "_model_name": "LayoutModel",
      "_view_count": null,
      "_view_module": "@jupyter-widgets/base",
      "_view_module_version": "1.2.0",
      "_view_name": "LayoutView",
      "align_content": null,
      "align_items": null,
      "align_self": null,
      "border": null,
      "bottom": null,
      "display": null,
      "flex": null,
      "flex_flow": null,
      "grid_area": null,
      "grid_auto_columns": null,
      "grid_auto_flow": null,
      "grid_auto_rows": null,
      "grid_column": null,
      "grid_gap": null,
      "grid_row": null,
      "grid_template_areas": null,
      "grid_template_columns": null,
      "grid_template_rows": null,
      "height": null,
      "justify_content": null,
      "justify_items": null,
      "left": null,
      "margin": null,
      "max_height": null,
      "max_width": null,
      "min_height": null,
      "min_width": null,
      "object_fit": null,
      "object_position": null,
      "order": null,
      "overflow": null,
      "overflow_x": null,
      "overflow_y": null,
      "padding": null,
      "right": null,
      "top": null,
      "visibility": null,
      "width": null
     }
    },
    "c7c9464ce3e24170acb6ca82d32566d8": {
     "model_module": "@jupyter-widgets/controls",
     "model_module_version": "1.5.0",
     "model_name": "FloatProgressModel",
     "state": {
      "_dom_classes": [],
      "_model_module": "@jupyter-widgets/controls",
      "_model_module_version": "1.5.0",
      "_model_name": "FloatProgressModel",
      "_view_count": null,
      "_view_module": "@jupyter-widgets/controls",
      "_view_module_version": "1.5.0",
      "_view_name": "ProgressView",
      "bar_style": "success",
      "description": "",
      "description_tooltip": null,
      "layout": "IPY_MODEL_7541ec40e1b54c84986cc866dc56e16b",
      "max": 29515,
      "min": 0,
      "orientation": "horizontal",
      "style": "IPY_MODEL_5a82081abbcd47dcb20c5dd471b110d3",
      "value": 29515
     }
    },
    "ca8384ff34fc49f0994d093bcec7b2a1": {
     "model_module": "@jupyter-widgets/controls",
     "model_module_version": "1.5.0",
     "model_name": "FloatProgressModel",
     "state": {
      "_dom_classes": [],
      "_model_module": "@jupyter-widgets/controls",
      "_model_module_version": "1.5.0",
      "_model_name": "FloatProgressModel",
      "_view_count": null,
      "_view_module": "@jupyter-widgets/controls",
      "_view_module_version": "1.5.0",
      "_view_name": "ProgressView",
      "bar_style": "success",
      "description": "",
      "description_tooltip": null,
      "layout": "IPY_MODEL_d88d3b9698a2496b813df4d9c2a14519",
      "max": 5148,
      "min": 0,
      "orientation": "horizontal",
      "style": "IPY_MODEL_25b6c1228559415f9bb8a58a57c234eb",
      "value": 5148
     }
    },
    "cf6e566da3bc44a18fd8a923c06794c6": {
     "model_module": "@jupyter-widgets/controls",
     "model_module_version": "1.5.0",
     "model_name": "ProgressStyleModel",
     "state": {
      "_model_module": "@jupyter-widgets/controls",
      "_model_module_version": "1.5.0",
      "_model_name": "ProgressStyleModel",
      "_view_count": null,
      "_view_module": "@jupyter-widgets/base",
      "_view_module_version": "1.2.0",
      "_view_name": "StyleView",
      "bar_color": null,
      "description_width": ""
     }
    },
    "d35d53ff3729422faa55585d324babb0": {
     "model_module": "@jupyter-widgets/controls",
     "model_module_version": "1.5.0",
     "model_name": "FloatProgressModel",
     "state": {
      "_dom_classes": [],
      "_model_module": "@jupyter-widgets/controls",
      "_model_module_version": "1.5.0",
      "_model_name": "FloatProgressModel",
      "_view_count": null,
      "_view_module": "@jupyter-widgets/controls",
      "_view_module_version": "1.5.0",
      "_view_name": "ProgressView",
      "bar_style": "success",
      "description": "",
      "description_tooltip": null,
      "layout": "IPY_MODEL_fc8f758e5a4a4b6b81cb924416e27099",
      "max": 26421880,
      "min": 0,
      "orientation": "horizontal",
      "style": "IPY_MODEL_cf6e566da3bc44a18fd8a923c06794c6",
      "value": 26421880
     }
    },
    "d88d3b9698a2496b813df4d9c2a14519": {
     "model_module": "@jupyter-widgets/base",
     "model_module_version": "1.2.0",
     "model_name": "LayoutModel",
     "state": {
      "_model_module": "@jupyter-widgets/base",
      "_model_module_version": "1.2.0",
      "_model_name": "LayoutModel",
      "_view_count": null,
      "_view_module": "@jupyter-widgets/base",
      "_view_module_version": "1.2.0",
      "_view_name": "LayoutView",
      "align_content": null,
      "align_items": null,
      "align_self": null,
      "border": null,
      "bottom": null,
      "display": null,
      "flex": null,
      "flex_flow": null,
      "grid_area": null,
      "grid_auto_columns": null,
      "grid_auto_flow": null,
      "grid_auto_rows": null,
      "grid_column": null,
      "grid_gap": null,
      "grid_row": null,
      "grid_template_areas": null,
      "grid_template_columns": null,
      "grid_template_rows": null,
      "height": null,
      "justify_content": null,
      "justify_items": null,
      "left": null,
      "margin": null,
      "max_height": null,
      "max_width": null,
      "min_height": null,
      "min_width": null,
      "object_fit": null,
      "object_position": null,
      "order": null,
      "overflow": null,
      "overflow_x": null,
      "overflow_y": null,
      "padding": null,
      "right": null,
      "top": null,
      "visibility": null,
      "width": null
     }
    },
    "d8d802b9d5804be2ba4ee45b7753ccba": {
     "model_module": "@jupyter-widgets/controls",
     "model_module_version": "1.5.0",
     "model_name": "DescriptionStyleModel",
     "state": {
      "_model_module": "@jupyter-widgets/controls",
      "_model_module_version": "1.5.0",
      "_model_name": "DescriptionStyleModel",
      "_view_count": null,
      "_view_module": "@jupyter-widgets/base",
      "_view_module_version": "1.2.0",
      "_view_name": "StyleView",
      "description_width": ""
     }
    },
    "e5e4506d2c4643c5b7439aff3372852c": {
     "model_module": "@jupyter-widgets/base",
     "model_module_version": "1.2.0",
     "model_name": "LayoutModel",
     "state": {
      "_model_module": "@jupyter-widgets/base",
      "_model_module_version": "1.2.0",
      "_model_name": "LayoutModel",
      "_view_count": null,
      "_view_module": "@jupyter-widgets/base",
      "_view_module_version": "1.2.0",
      "_view_name": "LayoutView",
      "align_content": null,
      "align_items": null,
      "align_self": null,
      "border": null,
      "bottom": null,
      "display": null,
      "flex": null,
      "flex_flow": null,
      "grid_area": null,
      "grid_auto_columns": null,
      "grid_auto_flow": null,
      "grid_auto_rows": null,
      "grid_column": null,
      "grid_gap": null,
      "grid_row": null,
      "grid_template_areas": null,
      "grid_template_columns": null,
      "grid_template_rows": null,
      "height": null,
      "justify_content": null,
      "justify_items": null,
      "left": null,
      "margin": null,
      "max_height": null,
      "max_width": null,
      "min_height": null,
      "min_width": null,
      "object_fit": null,
      "object_position": null,
      "order": null,
      "overflow": null,
      "overflow_x": null,
      "overflow_y": null,
      "padding": null,
      "right": null,
      "top": null,
      "visibility": null,
      "width": null
     }
    },
    "ef22f0eba8fd4f439ed6fd5653eda3dc": {
     "model_module": "@jupyter-widgets/controls",
     "model_module_version": "1.5.0",
     "model_name": "DescriptionStyleModel",
     "state": {
      "_model_module": "@jupyter-widgets/controls",
      "_model_module_version": "1.5.0",
      "_model_name": "DescriptionStyleModel",
      "_view_count": null,
      "_view_module": "@jupyter-widgets/base",
      "_view_module_version": "1.2.0",
      "_view_name": "StyleView",
      "description_width": ""
     }
    },
    "fc8f758e5a4a4b6b81cb924416e27099": {
     "model_module": "@jupyter-widgets/base",
     "model_module_version": "1.2.0",
     "model_name": "LayoutModel",
     "state": {
      "_model_module": "@jupyter-widgets/base",
      "_model_module_version": "1.2.0",
      "_model_name": "LayoutModel",
      "_view_count": null,
      "_view_module": "@jupyter-widgets/base",
      "_view_module_version": "1.2.0",
      "_view_name": "LayoutView",
      "align_content": null,
      "align_items": null,
      "align_self": null,
      "border": null,
      "bottom": null,
      "display": null,
      "flex": null,
      "flex_flow": null,
      "grid_area": null,
      "grid_auto_columns": null,
      "grid_auto_flow": null,
      "grid_auto_rows": null,
      "grid_column": null,
      "grid_gap": null,
      "grid_row": null,
      "grid_template_areas": null,
      "grid_template_columns": null,
      "grid_template_rows": null,
      "height": null,
      "justify_content": null,
      "justify_items": null,
      "left": null,
      "margin": null,
      "max_height": null,
      "max_width": null,
      "min_height": null,
      "min_width": null,
      "object_fit": null,
      "object_position": null,
      "order": null,
      "overflow": null,
      "overflow_x": null,
      "overflow_y": null,
      "padding": null,
      "right": null,
      "top": null,
      "visibility": null,
      "width": null
     }
    }
   }
  }
 },
 "nbformat": 4,
 "nbformat_minor": 1
}
